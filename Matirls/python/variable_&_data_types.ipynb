{
  "cells": [
    {
      "cell_type": "code",
      "execution_count": null,
      "metadata": {
        "id": "Vz_0GT7TWa1z"
      },
      "outputs": [],
      "source": [
        "# 1. Variables and Variable Names\n",
        "# =====================\n",
        "# Variables are used to store data values.\n",
        "name = \"Alice\"  # string variable\n",
        "age = 25         # integer variable\n",
        "is_student = True  # boolean variable"
      ]
    },
    {
      "cell_type": "code",
      "execution_count": null,
      "metadata": {
        "id": "LjUNXSjOWmbT"
      },
      "outputs": [],
      "source": [
        "# Valid variable names:\n",
        "# - Must start with a letter or underscore (_)\n",
        "# - Cannot start with a number\n",
        "# - Can only contain letters, numbers, and underscores\n",
        "\n",
        "# Examples:\n",
        "_user = \"John\"\n",
        "user_2 = \"Jane\""
      ]
    },
    {
      "cell_type": "code",
      "execution_count": null,
      "metadata": {
        "id": "Hl-awe4VW3oB"
      },
      "outputs": [],
      "source": [
        "# 2. Data Types\n",
        "# =====================\n",
        "\n",
        "# Numbers:\n",
        "integer_number = 10      # int\n",
        "floating_number = 3.14   # float\n",
        "\n",
        "# Boolean:\n",
        "is_active = True\n",
        "is_logged_in = False"
      ]
    },
    {
      "cell_type": "code",
      "execution_count": null,
      "metadata": {
        "id": "j95dsKM_W69P"
      },
      "outputs": [],
      "source": [
        "# Type checking:\n",
        "print(type(name))        # <class 'str'>\n",
        "print(type(age))         # <class 'int'>\n",
        "print(type(floating_number))  # <class 'float'>\n",
        "print(type(is_student))  # <class 'bool'>"
      ]
    },
    {
      "cell_type": "code",
      "execution_count": null,
      "metadata": {
        "id": "d2ShiM53XOrP"
      },
      "outputs": [],
      "source": [
        "# 3. Arithmetic Operators\n",
        "# =====================\n",
        "# +, -, *, /, //, %, **\n",
        "a = 10\n",
        "b = 3\n",
        "print(a + b)   # 13\n",
        "print(a - b)   # 7\n",
        "print(a * b)   # 30\n",
        "print(a / b)   # 3.333...\n",
        "print(a % b)   # 1 (modulus)\n",
        "print(a ** b)  # 1000 (power)\n",
        "\n",
        "# =====================\n",
        "# 4. Logical Operators\n",
        "# =====================\n",
        "x = True\n",
        "y = False\n",
        "\n",
        "\n",
        "\n",
        "print(x and y)  # False\n",
        "print(x or y)   # True\n",
        "print(not x)    # False"
      ]
    },
    {
      "cell_type": "code",
      "execution_count": null,
      "metadata": {
        "id": "ZWX-uN2dXTCb"
      },
      "outputs": [],
      "source": [
        "# 5. Strings\n",
        "# =====================\n",
        "message = \"Hello, World!\"\n",
        "\n",
        "# Indexing (starts from 0)\n",
        "print(message[0])   # 'H'\n",
        "print(message[-1])  # '!'"
      ]
    },
    {
      "cell_type": "code",
      "execution_count": null,
      "metadata": {
        "id": "aavBreR4XsV6"
      },
      "outputs": [],
      "source": [
        "# Slicing\n",
        "message = \"Hello, World!\"\n",
        "print(message[0:5])   # 'Hello'\n",
        "print(message[:5])    # 'Hello'\n",
        "print(message[:])    # 'Hello, World!'"
      ]
    },
    {
      "cell_type": "code",
      "execution_count": null,
      "metadata": {
        "id": "k1PmvWmkYxKl"
      },
      "outputs": [],
      "source": [
        "# 6. Common String Methods\n",
        "# =====================\n",
        "text = \"  python Programming  \"\n",
        "\n",
        "print(text.lower())     # '  python programming  '\n",
        "print(text.upper())     # '  PYTHON PROGRAMMING  '\n",
        "print(text.strip())     # 'python Programming'\n",
        "print(text.replace(\"python\", \"hello\"))  # '  Python Programming  '\n",
        "print(text.split())     # ['python', 'Programming']\n",
        "print(text.find(\"Program\"))  # 9"
      ]
    },
    {
      "cell_type": "code",
      "execution_count": null,
      "metadata": {
        "colab": {
          "base_uri": "https://localhost:8080/"
        },
        "id": "S4PNlc6I3Rod",
        "outputId": "9dbb4758-bad3-433b-8ab4-6c802b203eed"
      },
      "outputs": [
        {
          "name": "stdout",
          "output_type": "stream",
          "text": [
            "ali 20\n"
          ]
        }
      ],
      "source": [
        "f_name=\"ali\"\n",
        "last_name=\"mohamed\"\n",
        "# print(f_name+\" \"+last_name)\n",
        "\n",
        "age=20\n",
        "# print(f_name +\" \" + str(age))\n",
        "print(f\"My name is {f_name} and I am {age} years old.\")\n"
      ]
    },
    {
      "cell_type": "code",
      "execution_count": null,
      "metadata": {
        "id": "Wgmv3y4GYz-E"
      },
      "outputs": [],
      "source": [
        "# 7: Type Casting\n",
        "# =====================\n",
        "x = \"123\"\n",
        "y = int(x)\n",
        "z = float(x)\n",
        "\n",
        "\n",
        "# Convert number to string:\n",
        "a = 100\n",
        "b = str(a)"
      ]
    },
    {
      "cell_type": "code",
      "execution_count": null,
      "metadata": {
        "id": "mYRt-BR-Y9Hq"
      },
      "outputs": [],
      "source": [
        "# 8. String Formatting\n",
        "# =====================\n",
        "name = \"Alice\"\n",
        "age = 25\n",
        "\n",
        "\n",
        "\n",
        "# f-string\n",
        "print(f\"My name is {name} and I am {age} years old.\")"
      ]
    },
    {
      "cell_type": "code",
      "execution_count": null,
      "metadata": {
        "id": "9GeSeX1sZvJ9"
      },
      "outputs": [],
      "source": [
        "# 9. Getting User Input\n",
        "name = input(\"Enter your name: \")\n",
        "age = int(input(\"Enter your age: \"))\n",
        "height = float(input(\"Enter your height in meters: \"))"
      ]
    },
    {
      "cell_type": "markdown",
      "metadata": {
        "id": "FKO-WzkjZCFm"
      },
      "source": [
        "# tasks"
      ]
    },
    {
      "cell_type": "markdown",
      "metadata": {
        "id": "tXGRsi8aZJXl"
      },
      "source": [
        "1. Ask the user to enter the radius of a circle and then print the area of the circle ."
      ]
    },
    {
      "cell_type": "code",
      "execution_count": null,
      "metadata": {
        "id": "cjDchr7-Jgjn"
      },
      "outputs": [],
      "source": [
        "# Ask the user to enter the radius\n",
        "radius = float(input(\"Enter the radius of the circle: \"))\n",
        "\n",
        "# Calculate the area (Area = π * r^2)\n",
        "pi = 3.14159\n",
        "area = pi * (radius ** 2)\n",
        "\n",
        "# Print the result\n",
        "print(f\"The area of the circle is: {area}\")\n"
      ]
    },
    {
      "cell_type": "markdown",
      "metadata": {
        "id": "mgTcHWVIZWYm"
      },
      "source": [
        "2. Ask the user to enter his height in cm and his weight in kg , then print his\n",
        "BMI ( Body Mass Index )."
      ]
    },
    {
      "cell_type": "code",
      "execution_count": null,
      "metadata": {
        "id": "xcTc_U7F7gkO"
      },
      "outputs": [],
      "source": [
        "# BMI=weight(kg) / (height(m) **2)"
      ]
    },
    {
      "cell_type": "markdown",
      "metadata": {
        "id": "oF0ez3VkZZYa"
      },
      "source": [
        "3. Write an algorithm to determine the flying time in minutes between two cities\n",
        "given the mileage between them and the average speed of the airplane with\n",
        "km/h."
      ]
    },
    {
      "cell_type": "markdown",
      "metadata": {
        "id": "CQLjy_jBZhww"
      },
      "source": [
        "4. Ask the user to enter a number in variable called “a” , then ask him to enter\n",
        "another number in variable called “b” , then print the result type of the\n",
        "Operation a/b ."
      ]
    },
    {
      "cell_type": "markdown",
      "metadata": {
        "id": "z6l90dtsZlCy"
      },
      "source": [
        "5. Write an algorithm that takes the number of wins, draws and losses and\n",
        "calculates the number of points a football team has obtained so far."
      ]
    },
    {
      "cell_type": "code",
      "execution_count": null,
      "metadata": {
        "id": "J1H9fgEnKKsC"
      },
      "outputs": [],
      "source": []
    }
  ],
  "metadata": {
    "colab": {
      "provenance": []
    },
    "kernelspec": {
      "display_name": "Python 3",
      "name": "python3"
    },
    "language_info": {
      "name": "python"
    }
  },
  "nbformat": 4,
  "nbformat_minor": 0
}
