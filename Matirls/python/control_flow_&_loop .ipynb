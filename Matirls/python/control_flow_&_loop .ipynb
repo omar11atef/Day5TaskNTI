{
  "nbformat": 4,
  "nbformat_minor": 0,
  "metadata": {
    "colab": {
      "provenance": []
    },
    "kernelspec": {
      "name": "python3",
      "display_name": "Python 3"
    },
    "language_info": {
      "name": "python"
    }
  },
  "cells": [
    {
      "cell_type": "markdown",
      "source": [
        "# if"
      ],
      "metadata": {
        "id": "gGzfiDawbPFF"
      }
    },
    {
      "cell_type": "code",
      "source": [
        "# 1. Basic if Statement\n",
        "# =====================\n",
        "x = 10\n",
        "if x >5:\n",
        "    print(\"x is greater than 5\")\n"
      ],
      "metadata": {
        "id": "NL0HjuaEaXiM"
      },
      "execution_count": null,
      "outputs": []
    },
    {
      "cell_type": "code",
      "source": [
        "# 2. if-else Statement\n",
        "# =====================\n",
        "age = 17\n",
        "if age >= 18:\n",
        "    print(\"You are an adult.\")\n",
        "else:\n",
        "    print(\"You are a minor.\")"
      ],
      "metadata": {
        "id": "c92yLPTnaZ4v"
      },
      "execution_count": null,
      "outputs": []
    },
    {
      "cell_type": "code",
      "source": [
        "# 3. if-elif-else Statement\n",
        "# =====================\n",
        "score = 85\n",
        "if score >= 90:\n",
        "    print(\"Grade: A\")\n",
        "elif score >= 80:\n",
        "    print(\"Grade: B\")\n",
        "elif score >= 70:\n",
        "    print(\"Grade: C\")\n",
        "elif score >= 60:\n",
        "    print(\"Grade: D\")\n",
        "else:\n",
        "    print(\"Grade: F\")"
      ],
      "metadata": {
        "id": "Lp6yH-HHae2s"
      },
      "execution_count": null,
      "outputs": []
    },
    {
      "cell_type": "code",
      "source": [
        "# 4. Nested if Statements\n",
        "# =====================\n",
        "number = 15\n",
        "if number > 0:\n",
        "    if number % 2 == 0:\n",
        "        print(\"Positive even number\")\n",
        "    else:\n",
        "        print(\"Positive odd number\")\n",
        "else:\n",
        "    print(\"Number is not positive\")"
      ],
      "metadata": {
        "id": "7EmjA64Pahdj"
      },
      "execution_count": null,
      "outputs": []
    },
    {
      "cell_type": "markdown",
      "source": [
        "# tasks"
      ],
      "metadata": {
        "id": "Kj8ekBTBa04v"
      }
    },
    {
      "cell_type": "markdown",
      "source": [
        "1. Write a program that asks the user to input a string ‘name’ and a\n",
        "number ‘num’ (either 0 or 1) and return \"Hello\" + name if num is 1,\n",
        "otherwise return \"Bye\" + name"
      ],
      "metadata": {
        "id": "pewC5r8aa44H"
      }
    },
    {
      "cell_type": "markdown",
      "source": [
        "2. Write a program that asks the user to input a number ‘num’ and\n",
        "print “even number” if the number is even and print “odd number”\n",
        "if the number is odd"
      ],
      "metadata": {
        "id": "0gTMs2Bra9fz"
      }
    },
    {
      "cell_type": "markdown",
      "source": [
        "3. Write a Python program that ask the user for the number of of users in a chatroom\n",
        "and print based on the following rules:\n",
        "If there is no one, return \"no one online\".\n",
        "If there 1 person, print “only one user is online\".\n",
        "If there are 2 people, print “Two Users are online\".\n",
        "If there are more than 2 people, print “there are many Users online\"."
      ],
      "metadata": {
        "id": "uI0cmwSsbCTy"
      }
    },
    {
      "cell_type": "markdown",
      "source": [
        "4. Write a Python program that ask the user for an operator of “+” or “-” or “*” and\n",
        "also ask him for two numbers then print the result of the operation , for ex:\n",
        "if the user input “+” , 8 , 7 your output will be 15\n",
        "if the user input “*” , 8 , 4 your output will be 32\n",
        "please handle the unwanted operators"
      ],
      "metadata": {
        "id": "72LurMNXbGlH"
      }
    },
    {
      "cell_type": "markdown",
      "source": [
        "# loop"
      ],
      "metadata": {
        "id": "BoScjyEAbT4w"
      }
    },
    {
      "cell_type": "code",
      "source": [
        "# 1. for Loop (using range)\n",
        "# =====================\n",
        "# Used to iterate over a sequence (like a list, string, or range)\n",
        "\n",
        "for i in range(1, 6):\n",
        "    print(f\"i is: {i}\")"
      ],
      "metadata": {
        "id": "MvOOKNoyPEau"
      },
      "execution_count": null,
      "outputs": []
    },
    {
      "cell_type": "code",
      "source": [
        "# range(start, stop, step):\n",
        "for i in range(10, 0, -2):\n",
        "    print(f\"Counting down: {i}\")"
      ],
      "metadata": {
        "id": "xjeCizFa-RQZ"
      },
      "execution_count": null,
      "outputs": []
    },
    {
      "cell_type": "code",
      "source": [
        "# 2. while Loop\n",
        "# =====================\n",
        "# Repeats a block of code as long as a condition is True\n",
        "\n",
        "count = 1\n",
        "while count <= 5:\n",
        "    print(f\"Count is: {count}\")\n",
        "    count += 1"
      ],
      "metadata": {
        "id": "ZuMKa9htO2RG",
        "colab": {
          "base_uri": "https://localhost:8080/"
        },
        "outputId": "7a99425c-edde-44d3-fabf-299782b00312"
      },
      "execution_count": null,
      "outputs": [
        {
          "output_type": "stream",
          "name": "stdout",
          "text": [
            "Count is: 1\n",
            "Count is: 2\n",
            "Count is: 3\n",
            "Count is: 4\n",
            "Count is: 5\n"
          ]
        }
      ]
    },
    {
      "cell_type": "code",
      "source": [
        "# 3. break and continue\n",
        "# =====================\n",
        "\n",
        "# break: exit the loop completely\n",
        "for i in range(10):\n",
        "    if i == 5:\n",
        "        break\n",
        "    print(i)  # will print 0 to 4 only\n"
      ],
      "metadata": {
        "id": "WsX8sj6TjoM9"
      },
      "execution_count": null,
      "outputs": []
    },
    {
      "cell_type": "code",
      "source": [
        "# continue: skip the current iteration\n",
        "for i in range(5):\n",
        "    if i == 2:\n",
        "        continue\n",
        "    print(i)  # skips printing 2"
      ],
      "metadata": {
        "id": "bLpJ1Gp2jrNo",
        "colab": {
          "base_uri": "https://localhost:8080/"
        },
        "outputId": "4d3c0eb1-73bb-4d43-f754-7c8a4031a003"
      },
      "execution_count": null,
      "outputs": [
        {
          "output_type": "stream",
          "name": "stdout",
          "text": [
            "0\n",
            "1\n",
            "3\n",
            "4\n"
          ]
        }
      ]
    },
    {
      "cell_type": "markdown",
      "source": [
        "# tasks"
      ],
      "metadata": {
        "id": "_TsBttQocUwV"
      }
    },
    {
      "cell_type": "markdown",
      "source": [
        "1. Write a program that asks the user to enter his first\n",
        "and second name in one string then print each letter\n",
        "of the name in capital form in separate line using a\n",
        "loop"
      ],
      "metadata": {
        "id": "eA6nnDf0cXqu"
      }
    },
    {
      "cell_type": "markdown",
      "source": [
        "2. Write a program that sums numbers in the interval\n",
        "from 1 to 1000."
      ],
      "metadata": {
        "id": "6btiyGyucbXt"
      }
    },
    {
      "cell_type": "markdown",
      "source": [
        "3. Write a program that prints the even numbers in the\n",
        "interval 1 to 22"
      ],
      "metadata": {
        "id": "z0f8jI2scgV2"
      }
    },
    {
      "cell_type": "markdown",
      "source": [
        "4. Print a 5x5 multiplication table."
      ],
      "metadata": {
        "id": "xcUYTfyQclUR"
      }
    },
    {
      "cell_type": "markdown",
      "source": [
        "5. Print all pairs of numbers between 1 and 5, but skip when both are equal."
      ],
      "metadata": {
        "id": "nbM5mPkVcqLo"
      }
    }
  ]
}