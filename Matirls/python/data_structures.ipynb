{
  "nbformat": 4,
  "nbformat_minor": 0,
  "metadata": {
    "colab": {
      "provenance": []
    },
    "kernelspec": {
      "name": "python3",
      "display_name": "Python 3"
    },
    "language_info": {
      "name": "python"
    }
  },
  "cells": [
    {
      "cell_type": "code",
      "source": [
        "# 1. LISTS\n",
        "# -------------------------\n",
        "# Ordered, mutable, allows duplicates\n",
        "\n",
        "# Creating a list\n",
        "my_list = [1, 2, 12, 10, 5]\n",
        "\n",
        "# List methods\n",
        "# my_list.append(6)           # Add to end\n",
        "# my_list.insert(2, 99)       # Insert at index\n",
        "# my_list.remove(5)           # Remove first occurrence of value\n",
        "# my_list.pop()               # Remove last element\n",
        "# my_list.pop(0)              # Remove element at index\n",
        "# my_list.reverse()           # Reverse list\n",
        "# my_list.sort()              # Sort list\n",
        "# my_list.index(99)           # Find index of value\n",
        "# len(my_list)\n",
        "print(my_list)              # Length of list"
      ],
      "metadata": {
        "id": "Iimb_LwPc6tB",
        "colab": {
          "base_uri": "https://localhost:8080/"
        },
        "outputId": "ff03e06b-299f-4244-922d-5f47deda778e"
      },
      "execution_count": null,
      "outputs": [
        {
          "output_type": "stream",
          "name": "stdout",
          "text": [
            "[1, 2, 5, 10, 12]\n"
          ]
        }
      ]
    },
    {
      "cell_type": "code",
      "source": [
        "# 2. TUPLES\n",
        "# -------------------------\n",
        "# Ordered, immutable, allows duplicates\n",
        "\n",
        "# Creating a tuple\n",
        "my_tuple = (1, 2, 3, 4)\n",
        "\n",
        "# Tuple methods\n",
        "my_tuple.index(3)           # Find index\n",
        "len(my_tuple)               # Length of tuple"
      ],
      "metadata": {
        "id": "Y3Hei4bvc9vn"
      },
      "execution_count": null,
      "outputs": []
    },
    {
      "cell_type": "code",
      "source": [
        "# 3. SETS\n",
        "# -------------------------\n",
        "# Unordered, mutable, no duplicates\n",
        "\n",
        "# Creating a set\n",
        "my_set = {1, 2, 3, 4}\n",
        "\n",
        "# Set methods\n",
        "my_set.add(5)               # Add element\n",
        "my_set.remove(2)            # Remove element\n",
        "my_set.pop()                # Remove arbitrary element\n",
        "my_set.clear()              # Clear set\n"
      ],
      "metadata": {
        "id": "4730bq3NdA99"
      },
      "execution_count": null,
      "outputs": []
    },
    {
      "cell_type": "code",
      "source": [
        "# 4. DICTIONARIES\n",
        "# -------------------------\n",
        "# Unordered, mutable, key-value pairs, no duplicate keys\n",
        "\n",
        "# Creating a dictionary\n",
        "my_dict = {\"name\": \"Alice\", \"age\": 25, \"city\": \"Cairo\"}\n",
        "\n",
        "# Dictionary methods\n",
        "# my_dict[\"job\"] = \"Engineer\"      # Add new key-value pair\n",
        "my_dict[\"age\"] = 26             # Update value\n",
        "# my_dict.keys()                  # All keys\n",
        "# my_dict.values()                # All values\n",
        "# my_dict.items()                 # All key-value pairs\n",
        "# my_dict.clear()\n",
        "# Clear all\n",
        "my_dict[\"faculty\"]= \"Engineering\"\n",
        "print(my_dict)"
      ],
      "metadata": {
        "id": "Nx3TrfXVdE-T",
        "colab": {
          "base_uri": "https://localhost:8080/"
        },
        "outputId": "4c794d0f-5bfc-4835-98ab-281b77490895"
      },
      "execution_count": null,
      "outputs": [
        {
          "output_type": "stream",
          "name": "stdout",
          "text": [
            "{'name': 'Alice', 'age': 26, 'city': 'Cairo', 'faculty': 'Engineering'}\n"
          ]
        }
      ]
    },
    {
      "cell_type": "markdown",
      "source": [
        "# tasks"
      ],
      "metadata": {
        "id": "f5QWxa18dGay"
      }
    },
    {
      "cell_type": "markdown",
      "source": [
        "1. Ask the user to enter five numbers then\n",
        "print the max and min number of those\n",
        "numbers"
      ],
      "metadata": {
        "id": "_Qo7_n1ndJIe"
      }
    },
    {
      "cell_type": "markdown",
      "source": [
        "2. Ask the user to enter five numbers then\n",
        "print the sum of those numbers\n"
      ],
      "metadata": {
        "id": "FLzBeJ-9dQeM"
      }
    },
    {
      "cell_type": "markdown",
      "source": [
        "3. Ask the user to enter five numbers then\n",
        "print the numbers that are divisible by 5.\n"
      ],
      "metadata": {
        "id": "KzKvAXSPdTvA"
      }
    },
    {
      "cell_type": "markdown",
      "source": [
        "4.Reverse the following list using:\n",
        "∙ [ 10, 20,30,40,50]\n",
        "1. Built in function\n",
        "2. While loop\n",
        "3. For loop"
      ],
      "metadata": {
        "id": "bm6d7tMCdcbw"
      }
    },
    {
      "cell_type": "markdown",
      "source": [
        "# overall task"
      ],
      "metadata": {
        "id": "_upjOHKPdz8L"
      }
    },
    {
      "cell_type": "markdown",
      "source": [
        "You have a list of students with their scores in 3 subjects.\n",
        "Store this information in a dictionary. Then:\n",
        "\n",
        "Calculate the total and average score for each student.\n",
        "\n",
        "Add a new key \"status\" with the value \"Pass\" if the average is >= 60, otherwise \"Fail\".\n",
        "\n",
        "Finally, print:\n",
        "\n",
        "The name of students who passed.\n",
        "\n",
        "The name of the top student with the highest average.\n",
        "\n",
        "Data:\n",
        "students = {\n",
        "    \"Ahmed\": [70, 80, 90],\n",
        "    \"Ali\": [40, 60, 55],\n",
        "    \"Mona\": [90, 95, 100],\n",
        "    \"Tamer\": [50, 45, 40],\n",
        "    \"Salma\": [75, 85, 70]\n",
        "}"
      ],
      "metadata": {
        "id": "HwQaTYmHd9qO"
      }
    },
    {
      "cell_type": "code",
      "source": [],
      "metadata": {
        "id": "M1KlzEdf9XDY"
      },
      "execution_count": null,
      "outputs": []
    },
    {
      "cell_type": "markdown",
      "source": [
        "\n",
        "A company is evaluating employee performance for yearly bonuses.\n",
        "You are given two lists:\n",
        "\n",
        "employees = [\"Ahmed\", \"Fatma\", \"Ali\", \"Mona\", \"Kareem\"]\n",
        "sales = [12000, 8000, 15000, 7000, 11000]  # monthly sales in dollars\n",
        "The company policy is:\n",
        "\n",
        "If monthly sales ≥ 10,000 → bonus is 10% of sales\n",
        "\n",
        "If monthly sales between 7,000 and 10,000 → bonus is 5%\n",
        "\n",
        "Otherwise → no bonus\n",
        "\n",
        "Your Task:\n",
        "Print the name of each employee and the bonus they will receive.\n",
        "At the end, print the total amount of bonuses the company will pay."
      ],
      "metadata": {
        "id": "Wmw9GuFeeINh"
      }
    }
  ]
}