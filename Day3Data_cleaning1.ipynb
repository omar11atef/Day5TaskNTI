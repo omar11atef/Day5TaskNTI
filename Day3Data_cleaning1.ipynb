{
 "cells": [
  {
   "cell_type": "code",
   "execution_count": 6,
   "metadata": {
    "id": "cw7EQQV3rUGX"
   },
   "outputs": [],
   "source": [
    "import numpy as np\n",
    "import pandas as pd\n",
    "import matplotlib.pyplot as plt\n",
    "import seaborn as sns"
   ]
  },
  {
   "cell_type": "code",
   "execution_count": 7,
   "metadata": {
    "id": "ZP33dbAnwLVF"
   },
   "outputs": [],
   "source": [
    "file_id = r'C:\\Users\\Omar_Atif\\Desktop\\jupyter python\\business_study_data.csv'\n",
    "url = file_id"
   ]
  },
  {
   "cell_type": "code",
   "execution_count": 8,
   "metadata": {
    "colab": {
     "base_uri": "https://localhost:8080/",
     "height": 226
    },
    "id": "p7dRfH0Uw_lT",
    "outputId": "45204c76-4624-4862-803c-23a5318de6a3"
   },
   "outputs": [
    {
     "data": {
      "text/html": [
       "<div>\n",
       "<style scoped>\n",
       "    .dataframe tbody tr th:only-of-type {\n",
       "        vertical-align: middle;\n",
       "    }\n",
       "\n",
       "    .dataframe tbody tr th {\n",
       "        vertical-align: top;\n",
       "    }\n",
       "\n",
       "    .dataframe thead th {\n",
       "        text-align: right;\n",
       "    }\n",
       "</style>\n",
       "<table border=\"1\" class=\"dataframe\">\n",
       "  <thead>\n",
       "    <tr style=\"text-align: right;\">\n",
       "      <th></th>\n",
       "      <th>CustomerID</th>\n",
       "      <th>Age</th>\n",
       "      <th>Gender</th>\n",
       "      <th>Annual_Income</th>\n",
       "      <th>Spending_Score</th>\n",
       "      <th>Membership_Level</th>\n",
       "      <th>Region</th>\n",
       "      <th>Product_Category</th>\n",
       "      <th>Purchase_Frequency</th>\n",
       "      <th>Last_Purchase_Days</th>\n",
       "      <th>IsActive</th>\n",
       "      <th>Satisfaction_Score</th>\n",
       "    </tr>\n",
       "  </thead>\n",
       "  <tbody>\n",
       "    <tr>\n",
       "      <th>0</th>\n",
       "      <td>1</td>\n",
       "      <td>56.0</td>\n",
       "      <td>Male</td>\n",
       "      <td>38794.0</td>\n",
       "      <td>66</td>\n",
       "      <td>Basic</td>\n",
       "      <td>South</td>\n",
       "      <td>Electronics</td>\n",
       "      <td>16</td>\n",
       "      <td>311</td>\n",
       "      <td>0</td>\n",
       "      <td>8</td>\n",
       "    </tr>\n",
       "    <tr>\n",
       "      <th>1</th>\n",
       "      <td>2</td>\n",
       "      <td>69.0</td>\n",
       "      <td>Female</td>\n",
       "      <td>50653.0</td>\n",
       "      <td>76</td>\n",
       "      <td>Gold</td>\n",
       "      <td>West</td>\n",
       "      <td>Groceries</td>\n",
       "      <td>10</td>\n",
       "      <td>12</td>\n",
       "      <td>0</td>\n",
       "      <td>7</td>\n",
       "    </tr>\n",
       "    <tr>\n",
       "      <th>2</th>\n",
       "      <td>3</td>\n",
       "      <td>46.0</td>\n",
       "      <td>Female</td>\n",
       "      <td>48977.0</td>\n",
       "      <td>91</td>\n",
       "      <td>Basic</td>\n",
       "      <td>West</td>\n",
       "      <td>Clothing</td>\n",
       "      <td>16</td>\n",
       "      <td>211</td>\n",
       "      <td>1</td>\n",
       "      <td>10</td>\n",
       "    </tr>\n",
       "    <tr>\n",
       "      <th>3</th>\n",
       "      <td>4</td>\n",
       "      <td>32.0</td>\n",
       "      <td>Male</td>\n",
       "      <td>53451.0</td>\n",
       "      <td>69</td>\n",
       "      <td>Basic</td>\n",
       "      <td>South</td>\n",
       "      <td>Clothing</td>\n",
       "      <td>5</td>\n",
       "      <td>244</td>\n",
       "      <td>1</td>\n",
       "      <td>1</td>\n",
       "    </tr>\n",
       "    <tr>\n",
       "      <th>4</th>\n",
       "      <td>5</td>\n",
       "      <td>60.0</td>\n",
       "      <td>Male</td>\n",
       "      <td>17133.0</td>\n",
       "      <td>37</td>\n",
       "      <td>Silver</td>\n",
       "      <td>South</td>\n",
       "      <td>Clothing</td>\n",
       "      <td>3</td>\n",
       "      <td>239</td>\n",
       "      <td>0</td>\n",
       "      <td>3</td>\n",
       "    </tr>\n",
       "  </tbody>\n",
       "</table>\n",
       "</div>"
      ],
      "text/plain": [
       "   CustomerID   Age  Gender  Annual_Income  Spending_Score Membership_Level  \\\n",
       "0           1  56.0    Male        38794.0              66            Basic   \n",
       "1           2  69.0  Female        50653.0              76             Gold   \n",
       "2           3  46.0  Female        48977.0              91            Basic   \n",
       "3           4  32.0    Male        53451.0              69            Basic   \n",
       "4           5  60.0    Male        17133.0              37           Silver   \n",
       "\n",
       "  Region Product_Category  Purchase_Frequency  Last_Purchase_Days  IsActive  \\\n",
       "0  South      Electronics                  16                 311         0   \n",
       "1   West        Groceries                  10                  12         0   \n",
       "2   West         Clothing                  16                 211         1   \n",
       "3  South         Clothing                   5                 244         1   \n",
       "4  South         Clothing                   3                 239         0   \n",
       "\n",
       "   Satisfaction_Score  \n",
       "0                   8  \n",
       "1                   7  \n",
       "2                  10  \n",
       "3                   1  \n",
       "4                   3  "
      ]
     },
     "execution_count": 8,
     "metadata": {},
     "output_type": "execute_result"
    }
   ],
   "source": [
    "data = pd.read_csv(url)\n",
    "data.head()"
   ]
  },
  {
   "cell_type": "code",
   "execution_count": 9,
   "metadata": {
    "colab": {
     "base_uri": "https://localhost:8080/",
     "height": 460
    },
    "id": "YZ1NYBSzxP7y",
    "outputId": "a5fdc361-1f22-43d8-a132-19dcae502a13"
   },
   "outputs": [
    {
     "data": {
      "text/plain": [
       "CustomerID              0\n",
       "Age                   250\n",
       "Gender                250\n",
       "Annual_Income         247\n",
       "Spending_Score          0\n",
       "Membership_Level      250\n",
       "Region                  0\n",
       "Product_Category        0\n",
       "Purchase_Frequency      0\n",
       "Last_Purchase_Days      0\n",
       "IsActive                0\n",
       "Satisfaction_Score      0\n",
       "dtype: int64"
      ]
     },
     "execution_count": 9,
     "metadata": {},
     "output_type": "execute_result"
    }
   ],
   "source": [
    "data.isna().sum()"
   ]
  },
  {
   "cell_type": "code",
   "execution_count": 27,
   "metadata": {
    "colab": {
     "base_uri": "https://localhost:8080/"
    },
    "id": "X9aZfIXyyUSZ",
    "outputId": "8fa6e1c5-6f6d-4b7b-dab4-1e06508930d4"
   },
   "outputs": [
    {
     "data": {
      "text/plain": [
       "(4750, 12)"
      ]
     },
     "execution_count": 27,
     "metadata": {},
     "output_type": "execute_result"
    }
   ],
   "source": [
    "#  dimensions of your DataFrame \n",
    "data.shape"
   ]
  },
  {
   "cell_type": "code",
   "execution_count": 11,
   "metadata": {
    "colab": {
     "base_uri": "https://localhost:8080/"
    },
    "id": "gTlPukSAycFa",
    "outputId": "d6aeca82-97d4-4162-b983-0c1c95bdd217"
   },
   "outputs": [
    {
     "name": "stdout",
     "output_type": "stream",
     "text": [
      "<class 'pandas.core.frame.DataFrame'>\n",
      "RangeIndex: 5000 entries, 0 to 4999\n",
      "Data columns (total 12 columns):\n",
      " #   Column              Non-Null Count  Dtype  \n",
      "---  ------              --------------  -----  \n",
      " 0   CustomerID          5000 non-null   int64  \n",
      " 1   Age                 4750 non-null   float64\n",
      " 2   Gender              4750 non-null   object \n",
      " 3   Annual_Income       4753 non-null   float64\n",
      " 4   Spending_Score      5000 non-null   int64  \n",
      " 5   Membership_Level    4750 non-null   object \n",
      " 6   Region              5000 non-null   object \n",
      " 7   Product_Category    5000 non-null   object \n",
      " 8   Purchase_Frequency  5000 non-null   int64  \n",
      " 9   Last_Purchase_Days  5000 non-null   int64  \n",
      " 10  IsActive            5000 non-null   int64  \n",
      " 11  Satisfaction_Score  5000 non-null   int64  \n",
      "dtypes: float64(2), int64(6), object(4)\n",
      "memory usage: 468.9+ KB\n"
     ]
    }
   ],
   "source": [
    "data.info()"
   ]
  },
  {
   "cell_type": "code",
   "execution_count": 12,
   "metadata": {
    "colab": {
     "base_uri": "https://localhost:8080/",
     "height": 460
    },
    "id": "WPg11QKhy8M8",
    "outputId": "5e96d68b-808f-443a-ca62-72a72a117e33"
   },
   "outputs": [
    {
     "data": {
      "text/plain": [
       "CustomerID            0.00\n",
       "Age                   5.00\n",
       "Gender                5.00\n",
       "Annual_Income         4.94\n",
       "Spending_Score        0.00\n",
       "Membership_Level      5.00\n",
       "Region                0.00\n",
       "Product_Category      0.00\n",
       "Purchase_Frequency    0.00\n",
       "Last_Purchase_Days    0.00\n",
       "IsActive              0.00\n",
       "Satisfaction_Score    0.00\n",
       "dtype: float64"
      ]
     },
     "execution_count": 12,
     "metadata": {},
     "output_type": "execute_result"
    }
   ],
   "source": [
    "data.isnull().mean()*100 # calculate percentage null value"
   ]
  },
  {
   "cell_type": "code",
   "execution_count": 13,
   "metadata": {
    "id": "KixJ24Mpzww5"
   },
   "outputs": [],
   "source": [
    "data['Age'] = data['Age'].fillna(data['Age'].median()) # nall --> median"
   ]
  },
  {
   "cell_type": "code",
   "execution_count": 14,
   "metadata": {
    "colab": {
     "base_uri": "https://localhost:8080/",
     "height": 460
    },
    "id": "_hRn6hmO0MU4",
    "outputId": "06e64baa-5fdd-44c1-a872-fbeeb318556d"
   },
   "outputs": [
    {
     "data": {
      "text/plain": [
       "CustomerID              0\n",
       "Age                     0\n",
       "Gender                250\n",
       "Annual_Income         247\n",
       "Spending_Score          0\n",
       "Membership_Level      250\n",
       "Region                  0\n",
       "Product_Category        0\n",
       "Purchase_Frequency      0\n",
       "Last_Purchase_Days      0\n",
       "IsActive                0\n",
       "Satisfaction_Score      0\n",
       "dtype: int64"
      ]
     },
     "execution_count": 14,
     "metadata": {},
     "output_type": "execute_result"
    }
   ],
   "source": [
    "data.isna().sum()"
   ]
  },
  {
   "cell_type": "code",
   "execution_count": 15,
   "metadata": {
    "id": "1gMZ9Xb31CCm"
   },
   "outputs": [],
   "source": [
    "data.dropna(subset=['Gender'],inplace=True) # remove nall in Gender"
   ]
  },
  {
   "cell_type": "code",
   "execution_count": 16,
   "metadata": {
    "id": "vlQ32uz12f22"
   },
   "outputs": [],
   "source": [
    "data['Annual_Income'] = data['Annual_Income'].fillna(data['Annual_Income'].median()) # nan -> median"
   ]
  },
  {
   "cell_type": "code",
   "execution_count": 17,
   "metadata": {
    "colab": {
     "base_uri": "https://localhost:8080/"
    },
    "id": "6IUBEogY3Nws",
    "outputId": "86292774-19dd-40f4-8682-4bb7b1fe173d"
   },
   "outputs": [
    {
     "name": "stdout",
     "output_type": "stream",
     "text": [
      "There are no duplicate rows in the DataFrame.\n",
      "0       False\n",
      "1       False\n",
      "2       False\n",
      "3       False\n",
      "4       False\n",
      "        ...  \n",
      "4995    False\n",
      "4996    False\n",
      "4997    False\n",
      "4998    False\n",
      "4999    False\n",
      "Length: 4750, dtype: bool\n"
     ]
    }
   ],
   "source": [
    "if data.duplicated().any():\n",
    "    print(\"There are duplicate rows in the DataFrame.\")\n",
    "else:\n",
    "    print(\"There are no duplicate rows in the DataFrame.\")\n",
    "\n",
    "print(data.duplicated())"
   ]
  },
  {
   "cell_type": "code",
   "execution_count": 26,
   "metadata": {
    "colab": {
     "base_uri": "https://localhost:8080/",
     "height": 430
    },
    "id": "wS0lh5en7HUJ",
    "outputId": "46291194-b9b4-4cad-9ffb-82cc9143e2fd"
   },
   "outputs": [
    {
     "data": {
      "image/png": "[encoded data removed]",
      "text/plain": [
       "<Figure size 640x480 with 1 Axes>"
      ]
     },
     "metadata": {},
     "output_type": "display_data"
    }
   ],
   "source": [
    "#show DataFrame using Matplotlib.\n",
    "plt.boxplot(data['Satisfaction_Score'])\n",
    "plt.show()"
   ]
  },
  {
   "cell_type": "code",
   "execution_count": 19,
   "metadata": {
    "colab": {
     "base_uri": "https://localhost:8080/",
     "height": 73
    },
    "id": "U8EcJFdD7pCc",
    "outputId": "77e56445-5bd0-4291-9264-57a36f148804"
   },
   "outputs": [
    {
     "data": {
      "text/html": [
       "<div>\n",
       "<style scoped>\n",
       "    .dataframe tbody tr th:only-of-type {\n",
       "        vertical-align: middle;\n",
       "    }\n",
       "\n",
       "    .dataframe tbody tr th {\n",
       "        vertical-align: top;\n",
       "    }\n",
       "\n",
       "    .dataframe thead th {\n",
       "        text-align: right;\n",
       "    }\n",
       "</style>\n",
       "<table border=\"1\" class=\"dataframe\">\n",
       "  <thead>\n",
       "    <tr style=\"text-align: right;\">\n",
       "      <th></th>\n",
       "      <th>CustomerID</th>\n",
       "      <th>Age</th>\n",
       "      <th>Gender</th>\n",
       "      <th>Annual_Income</th>\n",
       "      <th>Spending_Score</th>\n",
       "      <th>Membership_Level</th>\n",
       "      <th>Region</th>\n",
       "      <th>Product_Category</th>\n",
       "      <th>Purchase_Frequency</th>\n",
       "      <th>Last_Purchase_Days</th>\n",
       "      <th>IsActive</th>\n",
       "      <th>Satisfaction_Score</th>\n",
       "    </tr>\n",
       "  </thead>\n",
       "  <tbody>\n",
       "  </tbody>\n",
       "</table>\n",
       "</div>"
      ],
      "text/plain": [
       "Empty DataFrame\n",
       "Columns: [CustomerID, Age, Gender, Annual_Income, Spending_Score, Membership_Level, Region, Product_Category, Purchase_Frequency, Last_Purchase_Days, IsActive, Satisfaction_Score]\n",
       "Index: []"
      ]
     },
     "execution_count": 19,
     "metadata": {},
     "output_type": "execute_result"
    }
   ],
   "source": [
    "data[(data['Satisfaction_Score']>50)]"
   ]
  },
  {
   "cell_type": "code",
   "execution_count": 20,
   "metadata": {
    "colab": {
     "base_uri": "https://localhost:8080/",
     "height": 261
    },
    "id": "0d42aa6a",
    "outputId": "6827dc0e-2b58-4324-e53c-b2e7251727e2"
   },
   "outputs": [
    {
     "name": "stdout",
     "output_type": "stream",
     "text": [
      "Original Data Shape: (4750, 12)\n",
      "Encoded Data Shape: (4750, 18)\n"
     ]
    },
    {
     "data": {
      "text/html": [
       "<div>\n",
       "<style scoped>\n",
       "    .dataframe tbody tr th:only-of-type {\n",
       "        vertical-align: middle;\n",
       "    }\n",
       "\n",
       "    .dataframe tbody tr th {\n",
       "        vertical-align: top;\n",
       "    }\n",
       "\n",
       "    .dataframe thead th {\n",
       "        text-align: right;\n",
       "    }\n",
       "</style>\n",
       "<table border=\"1\" class=\"dataframe\">\n",
       "  <thead>\n",
       "    <tr style=\"text-align: right;\">\n",
       "      <th></th>\n",
       "      <th>CustomerID</th>\n",
       "      <th>Age</th>\n",
       "      <th>Annual_Income</th>\n",
       "      <th>Spending_Score</th>\n",
       "      <th>Purchase_Frequency</th>\n",
       "      <th>Last_Purchase_Days</th>\n",
       "      <th>IsActive</th>\n",
       "      <th>Satisfaction_Score</th>\n",
       "      <th>Gender_Male</th>\n",
       "      <th>Membership_Level_Gold</th>\n",
       "      <th>Membership_Level_Platinum</th>\n",
       "      <th>Membership_Level_Silver</th>\n",
       "      <th>Region_North</th>\n",
       "      <th>Region_South</th>\n",
       "      <th>Region_West</th>\n",
       "      <th>Product_Category_Electronics</th>\n",
       "      <th>Product_Category_Furniture</th>\n",
       "      <th>Product_Category_Groceries</th>\n",
       "    </tr>\n",
       "  </thead>\n",
       "  <tbody>\n",
       "    <tr>\n",
       "      <th>0</th>\n",
       "      <td>1</td>\n",
       "      <td>56.0</td>\n",
       "      <td>38794.0</td>\n",
       "      <td>66</td>\n",
       "      <td>16</td>\n",
       "      <td>311</td>\n",
       "      <td>0</td>\n",
       "      <td>8</td>\n",
       "      <td>True</td>\n",
       "      <td>False</td>\n",
       "      <td>False</td>\n",
       "      <td>False</td>\n",
       "      <td>False</td>\n",
       "      <td>True</td>\n",
       "      <td>False</td>\n",
       "      <td>True</td>\n",
       "      <td>False</td>\n",
       "      <td>False</td>\n",
       "    </tr>\n",
       "    <tr>\n",
       "      <th>1</th>\n",
       "      <td>2</td>\n",
       "      <td>69.0</td>\n",
       "      <td>50653.0</td>\n",
       "      <td>76</td>\n",
       "      <td>10</td>\n",
       "      <td>12</td>\n",
       "      <td>0</td>\n",
       "      <td>7</td>\n",
       "      <td>False</td>\n",
       "      <td>True</td>\n",
       "      <td>False</td>\n",
       "      <td>False</td>\n",
       "      <td>False</td>\n",
       "      <td>False</td>\n",
       "      <td>True</td>\n",
       "      <td>False</td>\n",
       "      <td>False</td>\n",
       "      <td>True</td>\n",
       "    </tr>\n",
       "    <tr>\n",
       "      <th>2</th>\n",
       "      <td>3</td>\n",
       "      <td>46.0</td>\n",
       "      <td>48977.0</td>\n",
       "      <td>91</td>\n",
       "      <td>16</td>\n",
       "      <td>211</td>\n",
       "      <td>1</td>\n",
       "      <td>10</td>\n",
       "      <td>False</td>\n",
       "      <td>False</td>\n",
       "      <td>False</td>\n",
       "      <td>False</td>\n",
       "      <td>False</td>\n",
       "      <td>False</td>\n",
       "      <td>True</td>\n",
       "      <td>False</td>\n",
       "      <td>False</td>\n",
       "      <td>False</td>\n",
       "    </tr>\n",
       "    <tr>\n",
       "      <th>3</th>\n",
       "      <td>4</td>\n",
       "      <td>32.0</td>\n",
       "      <td>53451.0</td>\n",
       "      <td>69</td>\n",
       "      <td>5</td>\n",
       "      <td>244</td>\n",
       "      <td>1</td>\n",
       "      <td>1</td>\n",
       "      <td>True</td>\n",
       "      <td>False</td>\n",
       "      <td>False</td>\n",
       "      <td>False</td>\n",
       "      <td>False</td>\n",
       "      <td>True</td>\n",
       "      <td>False</td>\n",
       "      <td>False</td>\n",
       "      <td>False</td>\n",
       "      <td>False</td>\n",
       "    </tr>\n",
       "    <tr>\n",
       "      <th>4</th>\n",
       "      <td>5</td>\n",
       "      <td>60.0</td>\n",
       "      <td>17133.0</td>\n",
       "      <td>37</td>\n",
       "      <td>3</td>\n",
       "      <td>239</td>\n",
       "      <td>0</td>\n",
       "      <td>3</td>\n",
       "      <td>True</td>\n",
       "      <td>False</td>\n",
       "      <td>False</td>\n",
       "      <td>True</td>\n",
       "      <td>False</td>\n",
       "      <td>True</td>\n",
       "      <td>False</td>\n",
       "      <td>False</td>\n",
       "      <td>False</td>\n",
       "      <td>False</td>\n",
       "    </tr>\n",
       "  </tbody>\n",
       "</table>\n",
       "</div>"
      ],
      "text/plain": [
       "   CustomerID   Age  Annual_Income  Spending_Score  Purchase_Frequency  \\\n",
       "0           1  56.0        38794.0              66                  16   \n",
       "1           2  69.0        50653.0              76                  10   \n",
       "2           3  46.0        48977.0              91                  16   \n",
       "3           4  32.0        53451.0              69                   5   \n",
       "4           5  60.0        17133.0              37                   3   \n",
       "\n",
       "   Last_Purchase_Days  IsActive  Satisfaction_Score  Gender_Male  \\\n",
       "0                 311         0                   8         True   \n",
       "1                  12         0                   7        False   \n",
       "2                 211         1                  10        False   \n",
       "3                 244         1                   1         True   \n",
       "4                 239         0                   3         True   \n",
       "\n",
       "   Membership_Level_Gold  Membership_Level_Platinum  Membership_Level_Silver  \\\n",
       "0                  False                      False                    False   \n",
       "1                   True                      False                    False   \n",
       "2                  False                      False                    False   \n",
       "3                  False                      False                    False   \n",
       "4                  False                      False                     True   \n",
       "\n",
       "   Region_North  Region_South  Region_West  Product_Category_Electronics  \\\n",
       "0         False          True        False                          True   \n",
       "1         False         False         True                         False   \n",
       "2         False         False         True                         False   \n",
       "3         False          True        False                         False   \n",
       "4         False          True        False                         False   \n",
       "\n",
       "   Product_Category_Furniture  Product_Category_Groceries  \n",
       "0                       False                       False  \n",
       "1                       False                        True  \n",
       "2                       False                       False  \n",
       "3                       False                       False  \n",
       "4                       False                       False  "
      ]
     },
     "metadata": {},
     "output_type": "display_data"
    }
   ],
   "source": [
    "# Identify categorical columns\n",
    "categorical_cols = data.select_dtypes(include=['object', 'category']).columns\n",
    "\n",
    "# Apply one-hot encoding\n",
    "#converts categorical variables in your DataFrame data into numeric\n",
    "data_encoded = pd.get_dummies(data, columns=categorical_cols, drop_first=True)\n",
    "\n",
    "print(\"Original Data Shape:\", data.shape)\n",
    "print(\"Encoded Data Shape:\", data_encoded.shape)\n",
    "display(data_encoded.head())"
   ]
  },
  {
   "cell_type": "code",
   "execution_count": 25,
   "metadata": {
    "colab": {
     "base_uri": "https://localhost:8080/",
     "height": 244
    },
    "id": "bbe85aa4",
    "outputId": "7324224a-0899-4ac4-8032-eb0ce63874eb"
   },
   "outputs": [
    {
     "name": "stdout",
     "output_type": "stream",
     "text": [
      "Scaled Data Head:\n"
     ]
    },
    {
     "data": {
      "text/html": [
       "<div>\n",
       "<style scoped>\n",
       "    .dataframe tbody tr th:only-of-type {\n",
       "        vertical-align: middle;\n",
       "    }\n",
       "\n",
       "    .dataframe tbody tr th {\n",
       "        vertical-align: top;\n",
       "    }\n",
       "\n",
       "    .dataframe thead th {\n",
       "        text-align: right;\n",
       "    }\n",
       "</style>\n",
       "<table border=\"1\" class=\"dataframe\">\n",
       "  <thead>\n",
       "    <tr style=\"text-align: right;\">\n",
       "      <th></th>\n",
       "      <th>CustomerID</th>\n",
       "      <th>Age</th>\n",
       "      <th>Annual_Income</th>\n",
       "      <th>Spending_Score</th>\n",
       "      <th>Purchase_Frequency</th>\n",
       "      <th>Last_Purchase_Days</th>\n",
       "      <th>IsActive</th>\n",
       "      <th>Satisfaction_Score</th>\n",
       "      <th>Gender_Male</th>\n",
       "      <th>Membership_Level_Gold</th>\n",
       "      <th>Membership_Level_Platinum</th>\n",
       "      <th>Membership_Level_Silver</th>\n",
       "      <th>Region_North</th>\n",
       "      <th>Region_South</th>\n",
       "      <th>Region_West</th>\n",
       "      <th>Product_Category_Electronics</th>\n",
       "      <th>Product_Category_Furniture</th>\n",
       "      <th>Product_Category_Groceries</th>\n",
       "    </tr>\n",
       "  </thead>\n",
       "  <tbody>\n",
       "    <tr>\n",
       "      <th>0</th>\n",
       "      <td>1</td>\n",
       "      <td>0.851192</td>\n",
       "      <td>-0.725643</td>\n",
       "      <td>0.518104</td>\n",
       "      <td>1.088733</td>\n",
       "      <td>1.242253</td>\n",
       "      <td>-1.026888</td>\n",
       "      <td>0.853984</td>\n",
       "      <td>True</td>\n",
       "      <td>False</td>\n",
       "      <td>False</td>\n",
       "      <td>False</td>\n",
       "      <td>False</td>\n",
       "      <td>True</td>\n",
       "      <td>False</td>\n",
       "      <td>True</td>\n",
       "      <td>False</td>\n",
       "      <td>False</td>\n",
       "    </tr>\n",
       "    <tr>\n",
       "      <th>1</th>\n",
       "      <td>2</td>\n",
       "      <td>1.746093</td>\n",
       "      <td>0.030491</td>\n",
       "      <td>0.857173</td>\n",
       "      <td>-0.022935</td>\n",
       "      <td>-1.598250</td>\n",
       "      <td>-1.026888</td>\n",
       "      <td>0.506688</td>\n",
       "      <td>False</td>\n",
       "      <td>True</td>\n",
       "      <td>False</td>\n",
       "      <td>False</td>\n",
       "      <td>False</td>\n",
       "      <td>False</td>\n",
       "      <td>True</td>\n",
       "      <td>False</td>\n",
       "      <td>False</td>\n",
       "      <td>True</td>\n",
       "    </tr>\n",
       "    <tr>\n",
       "      <th>2</th>\n",
       "      <td>3</td>\n",
       "      <td>0.162807</td>\n",
       "      <td>-0.076371</td>\n",
       "      <td>1.365775</td>\n",
       "      <td>1.088733</td>\n",
       "      <td>0.292252</td>\n",
       "      <td>0.973816</td>\n",
       "      <td>1.548578</td>\n",
       "      <td>False</td>\n",
       "      <td>False</td>\n",
       "      <td>False</td>\n",
       "      <td>False</td>\n",
       "      <td>False</td>\n",
       "      <td>False</td>\n",
       "      <td>True</td>\n",
       "      <td>False</td>\n",
       "      <td>False</td>\n",
       "      <td>False</td>\n",
       "    </tr>\n",
       "    <tr>\n",
       "      <th>3</th>\n",
       "      <td>4</td>\n",
       "      <td>-0.800933</td>\n",
       "      <td>0.208893</td>\n",
       "      <td>0.619825</td>\n",
       "      <td>-0.949326</td>\n",
       "      <td>0.605753</td>\n",
       "      <td>0.973816</td>\n",
       "      <td>-1.577093</td>\n",
       "      <td>True</td>\n",
       "      <td>False</td>\n",
       "      <td>False</td>\n",
       "      <td>False</td>\n",
       "      <td>False</td>\n",
       "      <td>True</td>\n",
       "      <td>False</td>\n",
       "      <td>False</td>\n",
       "      <td>False</td>\n",
       "      <td>False</td>\n",
       "    </tr>\n",
       "    <tr>\n",
       "      <th>4</th>\n",
       "      <td>5</td>\n",
       "      <td>1.126546</td>\n",
       "      <td>-2.106755</td>\n",
       "      <td>-0.465195</td>\n",
       "      <td>-1.319882</td>\n",
       "      <td>0.558253</td>\n",
       "      <td>-1.026888</td>\n",
       "      <td>-0.882499</td>\n",
       "      <td>True</td>\n",
       "      <td>False</td>\n",
       "      <td>False</td>\n",
       "      <td>True</td>\n",
       "      <td>False</td>\n",
       "      <td>True</td>\n",
       "      <td>False</td>\n",
       "      <td>False</td>\n",
       "      <td>False</td>\n",
       "      <td>False</td>\n",
       "    </tr>\n",
       "  </tbody>\n",
       "</table>\n",
       "</div>"
      ],
      "text/plain": [
       "   CustomerID       Age  Annual_Income  Spending_Score  Purchase_Frequency  \\\n",
       "0           1  0.851192      -0.725643        0.518104            1.088733   \n",
       "1           2  1.746093       0.030491        0.857173           -0.022935   \n",
       "2           3  0.162807      -0.076371        1.365775            1.088733   \n",
       "3           4 -0.800933       0.208893        0.619825           -0.949326   \n",
       "4           5  1.126546      -2.106755       -0.465195           -1.319882   \n",
       "\n",
       "   Last_Purchase_Days  IsActive  Satisfaction_Score  Gender_Male  \\\n",
       "0            1.242253 -1.026888            0.853984         True   \n",
       "1           -1.598250 -1.026888            0.506688        False   \n",
       "2            0.292252  0.973816            1.548578        False   \n",
       "3            0.605753  0.973816           -1.577093         True   \n",
       "4            0.558253 -1.026888           -0.882499         True   \n",
       "\n",
       "   Membership_Level_Gold  Membership_Level_Platinum  Membership_Level_Silver  \\\n",
       "0                  False                      False                    False   \n",
       "1                   True                      False                    False   \n",
       "2                  False                      False                    False   \n",
       "3                  False                      False                    False   \n",
       "4                  False                      False                     True   \n",
       "\n",
       "   Region_North  Region_South  Region_West  Product_Category_Electronics  \\\n",
       "0         False          True        False                          True   \n",
       "1         False         False         True                         False   \n",
       "2         False         False         True                         False   \n",
       "3         False          True        False                         False   \n",
       "4         False          True        False                         False   \n",
       "\n",
       "   Product_Category_Furniture  Product_Category_Groceries  \n",
       "0                       False                       False  \n",
       "1                       False                        True  \n",
       "2                       False                       False  \n",
       "3                       False                       False  \n",
       "4                       False                       False  "
      ]
     },
     "metadata": {},
     "output_type": "display_data"
    }
   ],
   "source": [
    "from sklearn.preprocessing import StandardScaler\n",
    "#Selects all numerical columns (int-float)\n",
    "numerical_cols = data_encoded.select_dtypes(include=np.number).columns.tolist()\n",
    "\n",
    "if 'CustomerID' in numerical_cols:\n",
    "    numerical_cols.remove('CustomerID')\n",
    "\n",
    "scaler = StandardScaler()\n",
    "\n",
    "data_scaled = data_encoded.copy()\n",
    "#Applies scaling , Fits the scaler to the data\n",
    "data_scaled[numerical_cols] = scaler.fit_transform(data_scaled[numerical_cols])\n",
    "\n",
    "print(\"Scaled Data Head:\")\n",
    "display(data_scaled.head())"
   ]
  },
  {
   "cell_type": "code",
   "execution_count": 24,
   "metadata": {
    "colab": {
     "base_uri": "https://localhost:8080/",
     "height": 300
    },
    "id": "BqUy2rGDAqB_",
    "outputId": "098aff45-62ba-4df1-899b-d6a096b1101e"
   },
   "outputs": [
    {
     "data": {
      "text/html": [
       "<div>\n",
       "<style scoped>\n",
       "    .dataframe tbody tr th:only-of-type {\n",
       "        vertical-align: middle;\n",
       "    }\n",
       "\n",
       "    .dataframe tbody tr th {\n",
       "        vertical-align: top;\n",
       "    }\n",
       "\n",
       "    .dataframe thead th {\n",
       "        text-align: right;\n",
       "    }\n",
       "</style>\n",
       "<table border=\"1\" class=\"dataframe\">\n",
       "  <thead>\n",
       "    <tr style=\"text-align: right;\">\n",
       "      <th></th>\n",
       "      <th>CustomerID</th>\n",
       "      <th>Age</th>\n",
       "      <th>Annual_Income</th>\n",
       "      <th>Spending_Score</th>\n",
       "      <th>Purchase_Frequency</th>\n",
       "      <th>Last_Purchase_Days</th>\n",
       "      <th>IsActive</th>\n",
       "      <th>Satisfaction_Score</th>\n",
       "    </tr>\n",
       "  </thead>\n",
       "  <tbody>\n",
       "    <tr>\n",
       "      <th>count</th>\n",
       "      <td>4750.000000</td>\n",
       "      <td>4750.000000</td>\n",
       "      <td>4750.000000</td>\n",
       "      <td>4750.000000</td>\n",
       "      <td>4750.000000</td>\n",
       "      <td>4750.000000</td>\n",
       "      <td>4750.000000</td>\n",
       "      <td>4750.000000</td>\n",
       "    </tr>\n",
       "    <tr>\n",
       "      <th>mean</th>\n",
       "      <td>2492.817263</td>\n",
       "      <td>43.634947</td>\n",
       "      <td>50174.785465</td>\n",
       "      <td>50.719789</td>\n",
       "      <td>10.123789</td>\n",
       "      <td>180.236632</td>\n",
       "      <td>0.513263</td>\n",
       "      <td>5.541053</td>\n",
       "    </tr>\n",
       "    <tr>\n",
       "      <th>std</th>\n",
       "      <td>1445.299001</td>\n",
       "      <td>14.528274</td>\n",
       "      <td>15685.385083</td>\n",
       "      <td>29.495663</td>\n",
       "      <td>5.397862</td>\n",
       "      <td>105.274123</td>\n",
       "      <td>0.499877</td>\n",
       "      <td>2.879685</td>\n",
       "    </tr>\n",
       "    <tr>\n",
       "      <th>min</th>\n",
       "      <td>1.000000</td>\n",
       "      <td>18.000000</td>\n",
       "      <td>-3730.000000</td>\n",
       "      <td>1.000000</td>\n",
       "      <td>1.000000</td>\n",
       "      <td>1.000000</td>\n",
       "      <td>0.000000</td>\n",
       "      <td>1.000000</td>\n",
       "    </tr>\n",
       "    <tr>\n",
       "      <th>25%</th>\n",
       "      <td>1237.250000</td>\n",
       "      <td>32.000000</td>\n",
       "      <td>40144.000000</td>\n",
       "      <td>25.000000</td>\n",
       "      <td>5.000000</td>\n",
       "      <td>88.000000</td>\n",
       "      <td>0.000000</td>\n",
       "      <td>3.000000</td>\n",
       "    </tr>\n",
       "    <tr>\n",
       "      <th>50%</th>\n",
       "      <td>2485.500000</td>\n",
       "      <td>43.000000</td>\n",
       "      <td>49891.500000</td>\n",
       "      <td>51.000000</td>\n",
       "      <td>10.000000</td>\n",
       "      <td>180.000000</td>\n",
       "      <td>1.000000</td>\n",
       "      <td>6.000000</td>\n",
       "    </tr>\n",
       "    <tr>\n",
       "      <th>75%</th>\n",
       "      <td>3743.750000</td>\n",
       "      <td>56.000000</td>\n",
       "      <td>59749.250000</td>\n",
       "      <td>75.000000</td>\n",
       "      <td>15.000000</td>\n",
       "      <td>271.000000</td>\n",
       "      <td>1.000000</td>\n",
       "      <td>8.000000</td>\n",
       "    </tr>\n",
       "    <tr>\n",
       "      <th>max</th>\n",
       "      <td>5000.000000</td>\n",
       "      <td>69.000000</td>\n",
       "      <td>126154.197948</td>\n",
       "      <td>150.000000</td>\n",
       "      <td>19.000000</td>\n",
       "      <td>364.000000</td>\n",
       "      <td>1.000000</td>\n",
       "      <td>10.000000</td>\n",
       "    </tr>\n",
       "  </tbody>\n",
       "</table>\n",
       "</div>"
      ],
      "text/plain": [
       "        CustomerID          Age  Annual_Income  Spending_Score  \\\n",
       "count  4750.000000  4750.000000    4750.000000     4750.000000   \n",
       "mean   2492.817263    43.634947   50174.785465       50.719789   \n",
       "std    1445.299001    14.528274   15685.385083       29.495663   \n",
       "min       1.000000    18.000000   -3730.000000        1.000000   \n",
       "25%    1237.250000    32.000000   40144.000000       25.000000   \n",
       "50%    2485.500000    43.000000   49891.500000       51.000000   \n",
       "75%    3743.750000    56.000000   59749.250000       75.000000   \n",
       "max    5000.000000    69.000000  126154.197948      150.000000   \n",
       "\n",
       "       Purchase_Frequency  Last_Purchase_Days     IsActive  Satisfaction_Score  \n",
       "count         4750.000000         4750.000000  4750.000000         4750.000000  \n",
       "mean            10.123789          180.236632     0.513263            5.541053  \n",
       "std              5.397862          105.274123     0.499877            2.879685  \n",
       "min              1.000000            1.000000     0.000000            1.000000  \n",
       "25%              5.000000           88.000000     0.000000            3.000000  \n",
       "50%             10.000000          180.000000     1.000000            6.000000  \n",
       "75%             15.000000          271.000000     1.000000            8.000000  \n",
       "max             19.000000          364.000000     1.000000           10.000000  "
      ]
     },
     "execution_count": 24,
     "metadata": {},
     "output_type": "execute_result"
    }
   ],
   "source": [
    "data.describe()"
   ]
  },
  {
   "cell_type": "code",
   "execution_count": 48,
   "metadata": {
    "colab": {
     "base_uri": "https://localhost:8080/"
    },
    "id": "ae7l96XdAwMp",
    "outputId": "e9d89c3a-e537-4eba-d565-b49e344b9b11"
   },
   "outputs": [
    {
     "name": "stdout",
     "output_type": "stream",
     "text": [
      "<class 'pandas.core.frame.DataFrame'>\n",
      "RangeIndex: 5000 entries, 0 to 4999\n",
      "Data columns (total 18 columns):\n",
      " #   Column                        Non-Null Count  Dtype  \n",
      "---  ------                        --------------  -----  \n",
      " 0   CustomerID                    5000 non-null   int64  \n",
      " 1   Age                           4750 non-null   float64\n",
      " 2   Annual_Income                 4753 non-null   float64\n",
      " 3   Spending_Score                5000 non-null   float64\n",
      " 4   Purchase_Frequency            5000 non-null   float64\n",
      " 5   Last_Purchase_Days            5000 non-null   float64\n",
      " 6   IsActive                      5000 non-null   float64\n",
      " 7   Satisfaction_Score            5000 non-null   float64\n",
      " 8   Gender_Male                   5000 non-null   bool   \n",
      " 9   Membership_Level_Gold         5000 non-null   bool   \n",
      " 10  Membership_Level_Platinum     5000 non-null   bool   \n",
      " 11  Membership_Level_Silver       5000 non-null   bool   \n",
      " 12  Region_North                  5000 non-null   bool   \n",
      " 13  Region_South                  5000 non-null   bool   \n",
      " 14  Region_West                   5000 non-null   bool   \n",
      " 15  Product_Category_Electronics  5000 non-null   bool   \n",
      " 16  Product_Category_Furniture    5000 non-null   bool   \n",
      " 17  Product_Category_Groceries    5000 non-null   bool   \n",
      "dtypes: bool(10), float64(7), int64(1)\n",
      "memory usage: 361.5 KB\n"
     ]
    }
   ],
   "source": [
    "data_scaled.info()"
   ]
  }
 ],
 "metadata": {
  "colab": {
   "provenance": []
  },
  "kernelspec": {
   "display_name": "Python 3 (ipykernel)",
   "language": "python",
   "name": "python3"
  },
  "language_info": {
   "codemirror_mode": {
    "name": "ipython",
    "version": 3
   },
   "file_extension": ".py",
   "mimetype": "text/x-python",
   "name": "python",
   "nbconvert_exporter": "python",
   "pygments_lexer": "ipython3",
   "version": "3.13.5"
  }
 },
 "nbformat": 4,
 "nbformat_minor": 4
}
