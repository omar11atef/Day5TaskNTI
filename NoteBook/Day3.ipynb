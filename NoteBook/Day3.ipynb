{
 "cells": [
  {
   "cell_type": "code",
   "execution_count": 21,
   "id": "029d0c03",
   "metadata": {},
   "outputs": [
    {
     "name": "stdout",
     "output_type": "stream",
     "text": [
      " Total sales 13300\n",
      " Average sales 1900.0\n",
      " Max sales 3000\n",
      " Sales above 2000: 4\n",
      " Sales equal to 0 1\n",
      " New array [1500 2300 1800 1900 2700 3000 2000]\n"
     ]
    }
   ],
   "source": [
    "#Task 1\n",
    "import numpy as np\n",
    "myarr=np.array([1500,2300,1800,0,2700,3000,2000])\n",
    "\n",
    "total_sales=np.sum(myarr)\n",
    "print(f\" Total sales {total_sales}\")\n",
    "\n",
    "mean_sales=np.mean(myarr)\n",
    "print(f\" Average sales {mean_sales}\")\n",
    "\n",
    "max_sales=np.max(myarr)\n",
    "print(f\" Max sales {max_sales}\")\n",
    "\n",
    "above_2000=np.sum(myarr>=2000)\n",
    "print(f\" Sales above 2000: {above_2000}\")\n",
    "\n",
    "equal_0=np.sum(myarr==0)\n",
    "print(f\" Sales equal to 0 {equal_0}\")\n",
    "\n",
    "myarr[myarr==0]=mean_sales\n",
    "print(f\" New array {myarr}\")\n",
    "        \n"
   ]
  },
  {
   "cell_type": "code",
   "execution_count": 22,
   "id": "92a50b28",
   "metadata": {},
   "outputs": [
    {
     "name": "stdout",
     "output_type": "stream",
     "text": [
      "Average temperature for each city: [22.         22.57142857 28.         23.         21.        ]\n",
      "Average temperature for each day: [20.8 22.  21.6 23.  24.  25.4 26.4]\n",
      "Hottest day (index) in each city: [6 6 6 6 5]\n",
      "Highest temperature is 31°C in city 2 on day 6\n",
      "Number of days with any city below 20°C: 3\n"
     ]
    }
   ],
   "source": [
    "#Task 2\n",
    "import numpy as np\n",
    "temperatures = np.array([\n",
    "    [22, 24, 19, 21, 20, 23, 25], \n",
    "    [18, 20, 21, 22, 24, 26, 27],  \n",
    "    [25, 27, 26, 28, 30, 29, 31],  \n",
    "    [20, 21, 22, 23, 24, 25, 26], \n",
    "    [19, 18, 20, 21, 22, 24, 23]   \n",
    "])\n",
    "\n",
    "avg_city_temp = np.mean(temperatures, axis=1)\n",
    "print(\"Average temperature for each city:\", avg_city_temp)\n",
    "\n",
    "avg_day_temp = np.mean(temperatures, axis=0)\n",
    "print(\"Average temperature for each day:\", avg_day_temp)\n",
    "\n",
    "hottest_day_per_city = np.max(temperatures, axis=1)\n",
    "print(\"Hottest day (index) in each city:\", hottest_day_per_city)\n",
    "\n",
    "max_temp = np.max(temperatures)\n",
    "city_index, day_index = np.unravel_index(np.argmax(temperatures), temperatures.shape)\n",
    "print(f\"Highest temperature is {max_temp}°C in city {city_index} on day {day_index}\")\n",
    "\n",
    "below_20 = temperatures < 20\n",
    "days_with_below_20 = np.sum(np.any(below_20, axis=0))\n",
    "print(\"Number of days with any city below 20°C:\", days_with_below_20)\n"
   ]
  }
 ],
 "metadata": {
  "kernelspec": {
   "display_name": "Python 3 (ipykernel)",
   "language": "python",
   "name": "python3"
  },
  "language_info": {
   "codemirror_mode": {
    "name": "ipython",
    "version": 3
   },
   "file_extension": ".py",
   "mimetype": "text/x-python",
   "name": "python",
   "nbconvert_exporter": "python",
   "pygments_lexer": "ipython3",
   "version": "3.10.0"
  }
 },
 "nbformat": 4,
 "nbformat_minor": 5
}
