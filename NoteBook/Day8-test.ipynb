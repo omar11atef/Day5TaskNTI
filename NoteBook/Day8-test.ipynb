{
 "cells": [
  {
   "cell_type": "markdown",
   "id": "98fc51ad-5254-4d26-bd61-26381e8f70bc",
   "metadata": {},
   "source": [
    "# Day 8/ Test :"
   ]
  },
  {
   "cell_type": "code",
   "execution_count": 1,
   "id": "589fb0dc-fa47-4f82-80cb-3c7e57dc22a1",
   "metadata": {},
   "outputs": [],
   "source": [
    "import numpy as np\n",
    "import pandas as pd\n",
    "file = r'C:\\Users\\ZBook\\Desktop\\juypter\\personality_datasert.csv'"
   ]
  },
  {
   "cell_type": "code",
   "execution_count": 2,
   "id": "4aaa8895-1f8e-4818-896f-5ec3384ab260",
   "metadata": {},
   "outputs": [
    {
     "data": {
      "text/html": [
       "<div>\n",
       "<style scoped>\n",
       "    .dataframe tbody tr th:only-of-type {\n",
       "        vertical-align: middle;\n",
       "    }\n",
       "\n",
       "    .dataframe tbody tr th {\n",
       "        vertical-align: top;\n",
       "    }\n",
       "\n",
       "    .dataframe thead th {\n",
       "        text-align: right;\n",
       "    }\n",
       "</style>\n",
       "<table border=\"1\" class=\"dataframe\">\n",
       "  <thead>\n",
       "    <tr style=\"text-align: right;\">\n",
       "      <th></th>\n",
       "      <th>Time_spent_Alone</th>\n",
       "      <th>Stage_fear</th>\n",
       "      <th>Social_event_attendance</th>\n",
       "      <th>Going_outside</th>\n",
       "      <th>Drained_after_socializing</th>\n",
       "      <th>Friends_circle_size</th>\n",
       "      <th>Post_frequency</th>\n",
       "      <th>Personality</th>\n",
       "    </tr>\n",
       "  </thead>\n",
       "  <tbody>\n",
       "    <tr>\n",
       "      <th>0</th>\n",
       "      <td>4.0</td>\n",
       "      <td>No</td>\n",
       "      <td>4.0</td>\n",
       "      <td>6.0</td>\n",
       "      <td>No</td>\n",
       "      <td>13.0</td>\n",
       "      <td>5.0</td>\n",
       "      <td>Extrovert</td>\n",
       "    </tr>\n",
       "    <tr>\n",
       "      <th>1</th>\n",
       "      <td>9.0</td>\n",
       "      <td>Yes</td>\n",
       "      <td>0.0</td>\n",
       "      <td>0.0</td>\n",
       "      <td>Yes</td>\n",
       "      <td>0.0</td>\n",
       "      <td>3.0</td>\n",
       "      <td>Introvert</td>\n",
       "    </tr>\n",
       "    <tr>\n",
       "      <th>2</th>\n",
       "      <td>9.0</td>\n",
       "      <td>Yes</td>\n",
       "      <td>1.0</td>\n",
       "      <td>2.0</td>\n",
       "      <td>Yes</td>\n",
       "      <td>5.0</td>\n",
       "      <td>2.0</td>\n",
       "      <td>Introvert</td>\n",
       "    </tr>\n",
       "    <tr>\n",
       "      <th>3</th>\n",
       "      <td>0.0</td>\n",
       "      <td>No</td>\n",
       "      <td>6.0</td>\n",
       "      <td>7.0</td>\n",
       "      <td>No</td>\n",
       "      <td>14.0</td>\n",
       "      <td>8.0</td>\n",
       "      <td>Extrovert</td>\n",
       "    </tr>\n",
       "    <tr>\n",
       "      <th>4</th>\n",
       "      <td>3.0</td>\n",
       "      <td>No</td>\n",
       "      <td>9.0</td>\n",
       "      <td>4.0</td>\n",
       "      <td>No</td>\n",
       "      <td>8.0</td>\n",
       "      <td>5.0</td>\n",
       "      <td>Extrovert</td>\n",
       "    </tr>\n",
       "  </tbody>\n",
       "</table>\n",
       "</div>"
      ],
      "text/plain": [
       "   Time_spent_Alone Stage_fear  Social_event_attendance  Going_outside  \\\n",
       "0               4.0         No                      4.0            6.0   \n",
       "1               9.0        Yes                      0.0            0.0   \n",
       "2               9.0        Yes                      1.0            2.0   \n",
       "3               0.0         No                      6.0            7.0   \n",
       "4               3.0         No                      9.0            4.0   \n",
       "\n",
       "  Drained_after_socializing  Friends_circle_size  Post_frequency Personality  \n",
       "0                        No                 13.0             5.0   Extrovert  \n",
       "1                       Yes                  0.0             3.0   Introvert  \n",
       "2                       Yes                  5.0             2.0   Introvert  \n",
       "3                        No                 14.0             8.0   Extrovert  \n",
       "4                        No                  8.0             5.0   Extrovert  "
      ]
     },
     "execution_count": 2,
     "metadata": {},
     "output_type": "execute_result"
    }
   ],
   "source": [
    "data = pd.read_csv(file)\n",
    "data.head()"
   ]
  },
  {
   "cell_type": "code",
   "execution_count": 3,
   "id": "611a296d-7910-47a7-acb8-90f025862501",
   "metadata": {},
   "outputs": [
    {
     "name": "stdout",
     "output_type": "stream",
     "text": [
      "<class 'pandas.core.frame.DataFrame'>\n",
      "RangeIndex: 2900 entries, 0 to 2899\n",
      "Data columns (total 8 columns):\n",
      " #   Column                     Non-Null Count  Dtype  \n",
      "---  ------                     --------------  -----  \n",
      " 0   Time_spent_Alone           2900 non-null   float64\n",
      " 1   Stage_fear                 2900 non-null   object \n",
      " 2   Social_event_attendance    2900 non-null   float64\n",
      " 3   Going_outside              2900 non-null   float64\n",
      " 4   Drained_after_socializing  2900 non-null   object \n",
      " 5   Friends_circle_size        2900 non-null   float64\n",
      " 6   Post_frequency             2900 non-null   float64\n",
      " 7   Personality                2900 non-null   object \n",
      "dtypes: float64(5), object(3)\n",
      "memory usage: 181.4+ KB\n"
     ]
    }
   ],
   "source": [
    "data.info()"
   ]
  },
  {
   "cell_type": "code",
   "execution_count": 4,
   "id": "23901682-bb6e-476d-9aa6-1344f5488e37",
   "metadata": {},
   "outputs": [
    {
     "data": {
      "text/plain": [
       "np.int64(402)"
      ]
     },
     "execution_count": 4,
     "metadata": {},
     "output_type": "execute_result"
    }
   ],
   "source": [
    "data.duplicated().sum()"
   ]
  },
  {
   "cell_type": "code",
   "execution_count": 5,
   "id": "8fa1f2a1-f463-4f52-9ed2-a56e1be95080",
   "metadata": {},
   "outputs": [
    {
     "data": {
      "text/plain": [
       "np.int64(2887)"
      ]
     },
     "execution_count": 5,
     "metadata": {},
     "output_type": "execute_result"
    }
   ],
   "source": [
    "data.duplicated(subset=['Time_spent_Alone']).sum()"
   ]
  },
  {
   "cell_type": "code",
   "execution_count": 6,
   "id": "6f69d063-5db6-4c59-9303-a72ccef72f68",
   "metadata": {},
   "outputs": [],
   "source": [
    "\n",
    "# Clean numeric columns by rounding to reasonable decimals\n",
    "numeric_cols = ['Time_spent_Alone', 'Social_event_attendance', 'Going_outside', \n",
    "               'Friends_circle_size', 'Post_frequency']\n",
    "data[numeric_cols] = data[numeric_cols].round(1)\n",
    "\n",
    "# Clean categorical columns\n",
    "data['Stage_fear'] = data['Stage_fear'].replace({'yes':'Yes', 'no':'No'}).str.capitalize()\n",
    "data['Drained_after_socializing'] = data['Drained_after_socializing'].replace({'yes':'Yes', 'no':'No'}).str.capitalize()\n",
    "\n",
    "# Handle extreme values (assuming scales are 0-10)\n",
    "for col in numeric_cols:\n",
    "    data[col] = data[col].clip(0, 10)\n",
    "\n",
    "# Convert Friends_circle_size to integers (since you can't have a fraction of a friend)\n",
    "data['Friends_circle_size'] = data['Friends_circle_size'].round().astype(int)"
   ]
  },
  {
   "cell_type": "code",
   "execution_count": 7,
   "id": "80409d17-54f3-4f0e-86cc-6b0d93e63e3e",
   "metadata": {},
   "outputs": [
    {
     "data": {
      "text/html": [
       "<div>\n",
       "<style scoped>\n",
       "    .dataframe tbody tr th:only-of-type {\n",
       "        vertical-align: middle;\n",
       "    }\n",
       "\n",
       "    .dataframe tbody tr th {\n",
       "        vertical-align: top;\n",
       "    }\n",
       "\n",
       "    .dataframe thead th {\n",
       "        text-align: right;\n",
       "    }\n",
       "</style>\n",
       "<table border=\"1\" class=\"dataframe\">\n",
       "  <thead>\n",
       "    <tr style=\"text-align: right;\">\n",
       "      <th></th>\n",
       "      <th>Time_spent_Alone</th>\n",
       "      <th>Social_event_attendance</th>\n",
       "      <th>Going_outside</th>\n",
       "      <th>Friends_circle_size</th>\n",
       "      <th>Post_frequency</th>\n",
       "    </tr>\n",
       "  </thead>\n",
       "  <tbody>\n",
       "    <tr>\n",
       "      <th>count</th>\n",
       "      <td>2900.000000</td>\n",
       "      <td>2900.000000</td>\n",
       "      <td>2900.000000</td>\n",
       "      <td>2900.000000</td>\n",
       "      <td>2900.000000</td>\n",
       "    </tr>\n",
       "    <tr>\n",
       "      <th>mean</th>\n",
       "      <td>4.457414</td>\n",
       "      <td>3.964138</td>\n",
       "      <td>3.000000</td>\n",
       "      <td>5.685862</td>\n",
       "      <td>3.565517</td>\n",
       "    </tr>\n",
       "    <tr>\n",
       "      <th>std</th>\n",
       "      <td>3.355657</td>\n",
       "      <td>2.872613</td>\n",
       "      <td>2.221597</td>\n",
       "      <td>3.367500</td>\n",
       "      <td>2.893591</td>\n",
       "    </tr>\n",
       "    <tr>\n",
       "      <th>min</th>\n",
       "      <td>0.000000</td>\n",
       "      <td>0.000000</td>\n",
       "      <td>0.000000</td>\n",
       "      <td>0.000000</td>\n",
       "      <td>0.000000</td>\n",
       "    </tr>\n",
       "    <tr>\n",
       "      <th>25%</th>\n",
       "      <td>2.000000</td>\n",
       "      <td>2.000000</td>\n",
       "      <td>1.000000</td>\n",
       "      <td>3.000000</td>\n",
       "      <td>1.000000</td>\n",
       "    </tr>\n",
       "    <tr>\n",
       "      <th>50%</th>\n",
       "      <td>4.000000</td>\n",
       "      <td>4.000000</td>\n",
       "      <td>3.000000</td>\n",
       "      <td>5.000000</td>\n",
       "      <td>3.000000</td>\n",
       "    </tr>\n",
       "    <tr>\n",
       "      <th>75%</th>\n",
       "      <td>7.000000</td>\n",
       "      <td>6.000000</td>\n",
       "      <td>5.000000</td>\n",
       "      <td>10.000000</td>\n",
       "      <td>6.000000</td>\n",
       "    </tr>\n",
       "    <tr>\n",
       "      <th>max</th>\n",
       "      <td>10.000000</td>\n",
       "      <td>10.000000</td>\n",
       "      <td>7.000000</td>\n",
       "      <td>10.000000</td>\n",
       "      <td>10.000000</td>\n",
       "    </tr>\n",
       "  </tbody>\n",
       "</table>\n",
       "</div>"
      ],
      "text/plain": [
       "       Time_spent_Alone  Social_event_attendance  Going_outside  \\\n",
       "count       2900.000000              2900.000000    2900.000000   \n",
       "mean           4.457414                 3.964138       3.000000   \n",
       "std            3.355657                 2.872613       2.221597   \n",
       "min            0.000000                 0.000000       0.000000   \n",
       "25%            2.000000                 2.000000       1.000000   \n",
       "50%            4.000000                 4.000000       3.000000   \n",
       "75%            7.000000                 6.000000       5.000000   \n",
       "max           10.000000                10.000000       7.000000   \n",
       "\n",
       "       Friends_circle_size  Post_frequency  \n",
       "count          2900.000000     2900.000000  \n",
       "mean              5.685862        3.565517  \n",
       "std               3.367500        2.893591  \n",
       "min               0.000000        0.000000  \n",
       "25%               3.000000        1.000000  \n",
       "50%               5.000000        3.000000  \n",
       "75%              10.000000        6.000000  \n",
       "max              10.000000       10.000000  "
      ]
     },
     "execution_count": 7,
     "metadata": {},
     "output_type": "execute_result"
    }
   ],
   "source": [
    "data.describe()"
   ]
  },
  {
   "cell_type": "code",
   "execution_count": 8,
   "id": "6f27de87-3e29-4c3a-8142-667844af0559",
   "metadata": {},
   "outputs": [
    {
     "name": "stdout",
     "output_type": "stream",
     "text": [
      "<class 'pandas.core.frame.DataFrame'>\n",
      "RangeIndex: 2900 entries, 0 to 2899\n",
      "Data columns (total 8 columns):\n",
      " #   Column                     Non-Null Count  Dtype  \n",
      "---  ------                     --------------  -----  \n",
      " 0   Time_spent_Alone           2900 non-null   float64\n",
      " 1   Stage_fear                 2900 non-null   object \n",
      " 2   Social_event_attendance    2900 non-null   float64\n",
      " 3   Going_outside              2900 non-null   float64\n",
      " 4   Drained_after_socializing  2900 non-null   object \n",
      " 5   Friends_circle_size        2900 non-null   int64  \n",
      " 6   Post_frequency             2900 non-null   float64\n",
      " 7   Personality                2900 non-null   object \n",
      "dtypes: float64(4), int64(1), object(3)\n",
      "memory usage: 181.4+ KB\n"
     ]
    }
   ],
   "source": [
    "data.info()"
   ]
  },
  {
   "cell_type": "code",
   "execution_count": 9,
   "id": "d008aa25-1be3-4904-9dc6-6531f8cab53f",
   "metadata": {},
   "outputs": [
    {
     "name": "stdout",
     "output_type": "stream",
     "text": [
      "Original shape: (2900, 8)\n",
      "After dropping duplicates: (92, 8)\n"
     ]
    }
   ],
   "source": [
    "import pandas as pd\n",
    "\n",
    "# Load data\n",
    "df = pd.read_csv('personality_datasert.csv')\n",
    "\n",
    "# Drop duplicates based on specific columns\n",
    "df_cleaned = df.drop_duplicates(\n",
    "    subset=['Time_spent_Alone', 'Social_event_attendance'],\n",
    "    keep='first'\n",
    ")\n",
    "\n",
    "# Verify\n",
    "print(f\"Original shape: {df.shape}\")\n",
    "print(f\"After dropping duplicates: {df_cleaned.shape}\")"
   ]
  },
  {
   "cell_type": "code",
   "execution_count": 10,
   "id": "061443c0-8f4e-4f14-bdc0-cd9f31796b33",
   "metadata": {},
   "outputs": [
    {
     "data": {
      "text/plain": [
       "Time_spent_Alone             0\n",
       "Stage_fear                   0\n",
       "Social_event_attendance      0\n",
       "Going_outside                0\n",
       "Drained_after_socializing    0\n",
       "Friends_circle_size          0\n",
       "Post_frequency               0\n",
       "Personality                  0\n",
       "dtype: int64"
      ]
     },
     "execution_count": 10,
     "metadata": {},
     "output_type": "execute_result"
    }
   ],
   "source": [
    "data.isnull().sum()"
   ]
  },
  {
   "cell_type": "code",
   "execution_count": 11,
   "id": "4db3bce0-3613-4094-bd0a-077d119a7536",
   "metadata": {},
   "outputs": [
    {
     "data": {
      "text/plain": [
       "np.int64(619)"
      ]
     },
     "execution_count": 11,
     "metadata": {},
     "output_type": "execute_result"
    }
   ],
   "source": [
    "data.duplicated().sum()"
   ]
  },
  {
   "cell_type": "code",
   "execution_count": 14,
   "id": "4b8e9b2b-ace1-49ff-bafe-a03f58881259",
   "metadata": {},
   "outputs": [],
   "source": [
    "# Drop duplicate rows\n",
    "data = data.drop_duplicates()"
   ]
  },
  {
   "cell_type": "code",
   "execution_count": 15,
   "id": "2f5030d6-ba4f-48f1-90f7-18f367237ba5",
   "metadata": {},
   "outputs": [
    {
     "data": {
      "text/plain": [
       "np.int64(0)"
      ]
     },
     "execution_count": 15,
     "metadata": {},
     "output_type": "execute_result"
    }
   ],
   "source": [
    "data.duplicated().sum()"
   ]
  },
  {
   "cell_type": "code",
   "execution_count": 16,
   "id": "5ab2d250-a923-43d4-bfb5-6d3d125aada2",
   "metadata": {},
   "outputs": [
    {
     "name": "stdout",
     "output_type": "stream",
     "text": [
      "Categorical columns: ['Stage_fear', 'Drained_after_socializing', 'Personality']\n"
     ]
    },
    {
     "data": {
      "text/html": [
       "<div>\n",
       "<style scoped>\n",
       "    .dataframe tbody tr th:only-of-type {\n",
       "        vertical-align: middle;\n",
       "    }\n",
       "\n",
       "    .dataframe tbody tr th {\n",
       "        vertical-align: top;\n",
       "    }\n",
       "\n",
       "    .dataframe thead th {\n",
       "        text-align: right;\n",
       "    }\n",
       "</style>\n",
       "<table border=\"1\" class=\"dataframe\">\n",
       "  <thead>\n",
       "    <tr style=\"text-align: right;\">\n",
       "      <th></th>\n",
       "      <th>Time_spent_Alone</th>\n",
       "      <th>Social_event_attendance</th>\n",
       "      <th>Going_outside</th>\n",
       "      <th>Friends_circle_size</th>\n",
       "      <th>Post_frequency</th>\n",
       "      <th>Stage_fear_Yes</th>\n",
       "      <th>Drained_after_socializing_Yes</th>\n",
       "      <th>Personality_Introvert</th>\n",
       "    </tr>\n",
       "  </thead>\n",
       "  <tbody>\n",
       "    <tr>\n",
       "      <th>0</th>\n",
       "      <td>4.0</td>\n",
       "      <td>4.0</td>\n",
       "      <td>6.0</td>\n",
       "      <td>10</td>\n",
       "      <td>5.0</td>\n",
       "      <td>False</td>\n",
       "      <td>False</td>\n",
       "      <td>False</td>\n",
       "    </tr>\n",
       "    <tr>\n",
       "      <th>1</th>\n",
       "      <td>9.0</td>\n",
       "      <td>0.0</td>\n",
       "      <td>0.0</td>\n",
       "      <td>0</td>\n",
       "      <td>3.0</td>\n",
       "      <td>True</td>\n",
       "      <td>True</td>\n",
       "      <td>True</td>\n",
       "    </tr>\n",
       "    <tr>\n",
       "      <th>2</th>\n",
       "      <td>9.0</td>\n",
       "      <td>1.0</td>\n",
       "      <td>2.0</td>\n",
       "      <td>5</td>\n",
       "      <td>2.0</td>\n",
       "      <td>True</td>\n",
       "      <td>True</td>\n",
       "      <td>True</td>\n",
       "    </tr>\n",
       "    <tr>\n",
       "      <th>3</th>\n",
       "      <td>0.0</td>\n",
       "      <td>6.0</td>\n",
       "      <td>7.0</td>\n",
       "      <td>10</td>\n",
       "      <td>8.0</td>\n",
       "      <td>False</td>\n",
       "      <td>False</td>\n",
       "      <td>False</td>\n",
       "    </tr>\n",
       "    <tr>\n",
       "      <th>4</th>\n",
       "      <td>3.0</td>\n",
       "      <td>9.0</td>\n",
       "      <td>4.0</td>\n",
       "      <td>8</td>\n",
       "      <td>5.0</td>\n",
       "      <td>False</td>\n",
       "      <td>False</td>\n",
       "      <td>False</td>\n",
       "    </tr>\n",
       "  </tbody>\n",
       "</table>\n",
       "</div>"
      ],
      "text/plain": [
       "   Time_spent_Alone  Social_event_attendance  Going_outside  \\\n",
       "0               4.0                      4.0            6.0   \n",
       "1               9.0                      0.0            0.0   \n",
       "2               9.0                      1.0            2.0   \n",
       "3               0.0                      6.0            7.0   \n",
       "4               3.0                      9.0            4.0   \n",
       "\n",
       "   Friends_circle_size  Post_frequency  Stage_fear_Yes  \\\n",
       "0                   10             5.0           False   \n",
       "1                    0             3.0            True   \n",
       "2                    5             2.0            True   \n",
       "3                   10             8.0           False   \n",
       "4                    8             5.0           False   \n",
       "\n",
       "   Drained_after_socializing_Yes  Personality_Introvert  \n",
       "0                          False                  False  \n",
       "1                           True                   True  \n",
       "2                           True                   True  \n",
       "3                          False                  False  \n",
       "4                          False                  False  "
      ]
     },
     "metadata": {},
     "output_type": "display_data"
    }
   ],
   "source": [
    "# Identify categorical columns\n",
    "categorical_cols = data.select_dtypes(include='object').columns.tolist()\n",
    "print(\"Categorical columns:\", categorical_cols)\n",
    "\n",
    "# Handle categorical columns using one-hot encoding\n",
    "data = pd.get_dummies(data, columns=categorical_cols, drop_first=True)\n",
    "\n",
    "# Display the first few rows of the modified dataframe\n",
    "display(data.head())"
   ]
  },
  {
   "cell_type": "code",
   "execution_count": 17,
   "id": "0ea31919-99c9-44ea-a821-c31f69b42ef3",
   "metadata": {},
   "outputs": [],
   "source": [
    "from sklearn.impute import SimpleImputer\n",
    "imputer = SimpleImputer(strategy='mean')\n",
    "df[numeric_cols] = imputer.fit_transform(df[numeric_cols])"
   ]
  },
  {
   "cell_type": "code",
   "execution_count": 27,
   "id": "778f8377-5334-4280-922b-d09c78d89d71",
   "metadata": {},
   "outputs": [
    {
     "name": "stdout",
     "output_type": "stream",
     "text": [
      "Original Features:\n",
      "    Time_spent_Alone  Social_event_attendance\n",
      "0               4.0                      4.0\n",
      "1               9.0                      0.0\n",
      "2               0.0                      6.0\n",
      "3               3.0                      9.0\n",
      "\n",
      "Selected Features (Top 2):\n",
      " [[4. 4.]\n",
      " [9. 0.]\n",
      " [0. 6.]\n",
      " [3. 9.]]\n"
     ]
    }
   ],
   "source": [
    "import pandas as pd\n",
    "from sklearn.feature_selection import SelectKBest, f_regression\n",
    "from sklearn.preprocessing import LabelEncoder\n",
    "\n",
    "# Sample data\n",
    "df = pd.DataFrame({\n",
    "    'Time_spent_Alone': [4.0, 9.0, 0.0, 3.0],\n",
    "    'Social_event_attendance': [4.0, 0.0, 6.0, 9.0],\n",
    "    'Personality': ['Extrovert', 'Introvert', 'Extrovert', 'Extrovert']\n",
    "})\n",
    "\n",
    "# Encode target\n",
    "le = LabelEncoder()\n",
    "y = le.fit_transform(df['Personality'])  # Converts to [1, 0, 1, 1]\n",
    "\n",
    "# Define features\n",
    "X = df[['Time_spent_Alone', 'Social_event_attendance']]\n",
    "\n",
    "# Select top features\n",
    "selector = SelectKBest(score_func=f_regression, k=2)\n",
    "X_selected = selector.fit_transform(X, y)\n",
    "\n",
    "print(\"Original Features:\\n\", X.head())\n",
    "print(\"\\nSelected Features (Top 2):\\n\", X_selected)"
   ]
  },
  {
   "cell_type": "code",
   "execution_count": 30,
   "id": "3a9cfb3c-4c4c-4b41-89a2-4e8121ef04ad",
   "metadata": {},
   "outputs": [],
   "source": [
    "X = df.drop('Personality', axis=1)  \n",
    "y = df['Personality']"
   ]
  },
  {
   "cell_type": "code",
   "execution_count": 32,
   "id": "9a000d19-33ea-4cba-816e-e0bc6b926255",
   "metadata": {},
   "outputs": [],
   "source": [
    "from sklearn.model_selection import train_test_split\n",
    "\n",
    "X_train, X_test, y_train, y_test = train_test_split(X, y, test_size=0.2, random_state=42)"
   ]
  },
  {
   "cell_type": "code",
   "execution_count": 33,
   "id": "f74edbe9-b7f2-4dcf-a61b-1f70744fecfa",
   "metadata": {},
   "outputs": [],
   "source": [
    "scaler = StandardScaler()  \n",
    "X_train_scaled = scaler.fit_transform(X_train)  \n",
    "X_test_scaled = scaler.transform(X_test)  "
   ]
  },
  {
   "cell_type": "code",
   "execution_count": 35,
   "id": "403b25e1-7e80-4e15-bda9-3fc87c0c1484",
   "metadata": {},
   "outputs": [],
   "source": [
    "from sklearn.model_selection import train_test_split\n",
    "from sklearn.preprocessing import StandardScaler\n",
    "from sklearn.linear_model import LogisticRegression        # Import for Logistic Regression\n",
    "from sklearn.ensemble import RandomForestClassifier       # Import for Random Forest\n",
    "from sklearn.neighbors import KNeighborsClassifier        # Import for KNN\n",
    "\n",
    "models = {\n",
    "    'Logistic Regression': LogisticRegression(),\n",
    "    'Random Forest': RandomForestClassifier(),  # Fixed typo (Forget → Forest)\n",
    "    'KNN': KNeighborsClassifier()\n",
    "}"
   ]
  },
  {
   "cell_type": "code",
   "execution_count": 47,
   "id": "dcc142b0-b87d-4eb2-85b6-653de74bd45f",
   "metadata": {},
   "outputs": [
    {
     "name": "stdout",
     "output_type": "stream",
     "text": [
      "\n",
      "=== Class Distribution ===\n",
      "Personality\n",
      "Extrovert    1403\n",
      "Introvert    1095\n",
      "Name: count, dtype: int64\n",
      "\n",
      "=== Dataset Splits ===\n",
      "Training set shape: X_train=(1998, 7), y_train=(1998,)\n",
      "Test set shape: X_test=(500, 7), y_test=(500,)\n",
      "\n",
      "=== Model Evaluation ===\n",
      "\n",
      "--- Logistic Regression ---\n",
      "Accuracy: 0.9120\n",
      "Classification Report:\n",
      "              precision    recall  f1-score   support\n",
      "\n",
      "   Extrovert       0.90      0.95      0.92       281\n",
      "   Introvert       0.93      0.86      0.90       219\n",
      "\n",
      "    accuracy                           0.91       500\n",
      "   macro avg       0.92      0.91      0.91       500\n",
      "weighted avg       0.91      0.91      0.91       500\n",
      "\n",
      "\n",
      "--- Random Forest ---\n",
      "Accuracy: 0.9060\n",
      "Classification Report:\n",
      "              precision    recall  f1-score   support\n",
      "\n",
      "   Extrovert       0.90      0.94      0.92       281\n",
      "   Introvert       0.92      0.86      0.89       219\n",
      "\n",
      "    accuracy                           0.91       500\n",
      "   macro avg       0.91      0.90      0.90       500\n",
      "weighted avg       0.91      0.91      0.91       500\n",
      "\n",
      "\n",
      "--- KNN ---\n",
      "Accuracy: 0.9220\n",
      "Classification Report:\n",
      "              precision    recall  f1-score   support\n",
      "\n",
      "   Extrovert       0.92      0.94      0.93       281\n",
      "   Introvert       0.92      0.89      0.91       219\n",
      "\n",
      "    accuracy                           0.92       500\n",
      "   macro avg       0.92      0.92      0.92       500\n",
      "weighted avg       0.92      0.92      0.92       500\n",
      "\n",
      "\n",
      "=== Summary of Model Accuracies ===\n",
      "Logistic Regression: 0.9120\n",
      "Random Forest: 0.9060\n",
      "KNN: 0.9220\n",
      "\n",
      "Best performing model: KNN (Accuracy: 0.9220)\n"
     ]
    }
   ],
   "source": [
    "import pandas as pd\n",
    "import numpy as np\n",
    "from sklearn.model_selection import train_test_split\n",
    "from sklearn.preprocessing import StandardScaler, LabelEncoder\n",
    "from sklearn.linear_model import LogisticRegression\n",
    "from sklearn.ensemble import RandomForestClassifier\n",
    "from sklearn.neighbors import KNeighborsClassifier\n",
    "from sklearn.metrics import accuracy_score, classification_report\n",
    "\n",
    "# Load your dataset\n",
    "df = pd.read_csv(r'C:\\Users\\ZBook\\Desktop\\juypter\\personality_datasert.csv')\n",
    "\n",
    "# Data Cleaning\n",
    "# Drop duplicates\n",
    "df = df.drop_duplicates()\n",
    "\n",
    "# Verify we have both classes\n",
    "print(\"\\n=== Class Distribution ===\")\n",
    "print(df['Personality'].value_counts())\n",
    "\n",
    "# Preprocessing\n",
    "# Convert categorical variables\n",
    "df['Stage_fear'] = df['Stage_fear'].map({'Yes': 1, 'No': 0})\n",
    "df['Drained_after_socializing'] = df['Drained_after_socializing'].map({'Yes': 1, 'No': 0})\n",
    "\n",
    "# Encode target variable\n",
    "le = LabelEncoder()\n",
    "y = le.fit_transform(df['Personality'])\n",
    "X = df.drop('Personality', axis=1)\n",
    "\n",
    "# Train-test split\n",
    "X_train, X_test, y_train, y_test = train_test_split(\n",
    "    X, y, test_size=0.2, random_state=42, stratify=y\n",
    ")\n",
    "\n",
    "# Print train/test shapes\n",
    "print(\"\\n=== Dataset Splits ===\")\n",
    "print(f\"Training set shape: X_train={X_train.shape}, y_train={y_train.shape}\")\n",
    "print(f\"Test set shape: X_test={X_test.shape}, y_test={y_test.shape}\")\n",
    "\n",
    "# Feature scaling\n",
    "scaler = StandardScaler()\n",
    "X_train_scaled = scaler.fit_transform(X_train)\n",
    "X_test_scaled = scaler.transform(X_test)\n",
    "\n",
    "# Model definitions\n",
    "models = {\n",
    "    'Logistic Regression': LogisticRegression(max_iter=1000),\n",
    "    'Random Forest': RandomForestClassifier(),\n",
    "    'KNN': KNeighborsClassifier()\n",
    "}\n",
    "\n",
    "# Train and evaluate models\n",
    "results = {}\n",
    "print(\"\\n=== Model Evaluation ===\")\n",
    "for name, model in models.items():\n",
    "    model.fit(X_train_scaled, y_train)\n",
    "    y_pred = model.predict(X_test_scaled)\n",
    "    accuracy = accuracy_score(y_test, y_pred)\n",
    "    results[name] = accuracy\n",
    "    \n",
    "    print(f\"\\n--- {name} ---\")\n",
    "    print(f\"Accuracy: {accuracy:.4f}\")\n",
    "    print(\"Classification Report:\")\n",
    "    print(classification_report(y_test, y_pred, target_names=le.classes_))\n",
    "\n",
    "# Display all accuracies\n",
    "print(\"\\n=== Summary of Model Accuracies ===\")\n",
    "for name, acc in results.items():\n",
    "    print(f\"{name}: {acc:.4f}\")\n",
    "\n",
    "# Find best model\n",
    "best_model = max(results, key=results.get)\n",
    "print(f\"\\nBest performing model: {best_model} (Accuracy: {results[best_model]:.4f})\")"
   ]
  },
  {
   "cell_type": "code",
   "execution_count": null,
   "id": "68328ed7-5029-44ad-a259-8c3c1f26018a",
   "metadata": {},
   "outputs": [],
   "source": []
  }
 ],
 "metadata": {
  "kernelspec": {
   "display_name": "Python 3 (ipykernel)",
   "language": "python",
   "name": "python3"
  },
  "language_info": {
   "codemirror_mode": {
    "name": "ipython",
    "version": 3
   },
   "file_extension": ".py",
   "mimetype": "text/x-python",
   "name": "python",
   "nbconvert_exporter": "python",
   "pygments_lexer": "ipython3",
   "version": "3.10.0"
  }
 },
 "nbformat": 4,
 "nbformat_minor": 5
}
